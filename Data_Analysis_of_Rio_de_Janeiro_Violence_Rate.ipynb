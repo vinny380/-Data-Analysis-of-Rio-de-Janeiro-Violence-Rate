{
  "nbformat": 4,
  "nbformat_minor": 0,
  "metadata": {
    "colab": {
      "name": "Data Analysis of Rio de Janeiro Violence Rate",
      "provenance": [],
      "collapsed_sections": [],
      "include_colab_link": true
    },
    "kernelspec": {
      "name": "python3",
      "display_name": "Python 3"
    }
  },
  "cells": [
    {
      "cell_type": "markdown",
      "metadata": {
        "id": "view-in-github",
        "colab_type": "text"
      },
      "source": [
        "<a href=\"https://colab.research.google.com/github/vinny380/Data-Analysis-of-Rio-de-Janeiro-Violence-Rate/blob/main/Data_Analysis_of_Rio_de_Janeiro_Violence_Rate.ipynb\" target=\"_parent\"><img src=\"https://colab.research.google.com/assets/colab-badge.svg\" alt=\"Open In Colab\"/></a>"
      ]
    },
    {
      "cell_type": "markdown",
      "metadata": {
        "id": "-eFQZydM9O9J"
      },
      "source": [
        "by Vinícius Porfirio Purgato<br>\n",
        "<img src=https://icon-library.com/images/github-icon-svg/github-icon-svg-16.jpg width=50><a href=https://github.com/vinny380>GitHub</a><br>\n",
        "<img src=https://image.flaticon.com/icons/png/512/174/174857.png width=45><a href=https://www.linkedin.com/in/vin%C3%ADcius-porfirio-purgato-7891401b3/>  LinkedIn</a>\n",
        "\n",
        "<img src=https://cdn4.iconfinder.com/data/icons/social-media-2210/24/Medium-512.png width=50>\n",
        "<a href=https://medium.com/me/stories/public>Medium</a>\n",
        "\n",
        "\n",
        "---\n",
        "\n",
        "## Data Analysis of **Rio de Janeiro** Violence Rate\n",
        "\n",
        "<center><img src='https://images.unsplash.com/photo-1483729558449-99ef09a8c325?ixid=MXwxMjA3fDB8MHxwaG90by1wYWdlfHx8fGVufDB8fHw%3D&ixlib=rb-1.2.1&auto=format&fit=crop&w=1050&q=80' width=100%></center><span>Photo by <a href=\"https://unsplash.com/@agustindiazg?utm_source=unsplash&amp;utm_medium=referral&amp;utm_content=creditCopyText\">Agustin Diaz Gargiulo</a> on <a href=\"https://unsplash.com/s/photos/rio-de-janeiro?utm_source=unsplash&amp;utm_medium=referral&amp;utm_content=creditCopyText\">Unsplash</a></span>\n",
        "\n",
        "\n",
        "**Rio de Janeiro**, also known as the **Wonderful City**, is the **most famous place in Brazil**. It is also one of the favourites by tourists worldwide. \n",
        "Rio is well known for its Carnaval, **beaches**, soccer, food, **Christ the Redeemer statue**, music and friendly people. **Copacabana Beach** at Rio plays host each **New Year's Eve** to Reveillon, the **world's largest** and wildest **New Year's celebration.**<br>\n",
        "Sadly, besides its beauty, Rio has been getting **more and more dangerous**. Cops work hard to protect the population. However, Rio has been getting way too polarized. Some people tend to ignore cop's mistakes, and others see them as their enemies, which they are not. The vast majority of cops are common passionate people working (in bad conditions) to protect their city. \n",
        "Unfortunately, nowadays **Rio lives sort of a political and criminal war**, resulting in crime rates rising. \n",
        "By the way, Rio de Janeiro city shares the name with its state. Today we will be analyzing Rio's violence rate from 1991 to 2019.\n",
        "\n",
        "\n",
        "The data used is available at the **official website of Rio's Government**, which you can check out [here](http://www.ispdados.rj.gov.br/estatistica.html), they also got a [dashboard](http://www.ispvisualizacao.rj.gov.br/index.html) for data visualization."
      ]
    },
    {
      "cell_type": "markdown",
      "metadata": {
        "id": "kLI0gJtzDGuQ"
      },
      "source": [
        "# Variable Dictionary\n",
        "The name of the variables are very clear to what they mean, however these two are acronyms:<br>\n",
        "`saapia` - Self-Apprehension of Adolescents for Practice of Infractional Act<br>\n",
        "`sswcr` - Search and Seizure Warrant Compliance Rate "
      ]
    },
    {
      "cell_type": "markdown",
      "metadata": {
        "id": "0zxQHhIUDF_2"
      },
      "source": [
        "## Collecting the Data\n",
        "\n",
        "\n",
        "This dataset is from the state of Rio de Janeiro, not just the city. Therefore, they are trustful and real. They are not from parallel sources. <br>\n",
        "The state of Rio de Janeiro has a population of around 17.36 million people, while the city is composed of around 6.719 million people.<br> Sadly, as you will see in this analysis, crime has been rising, destroying our Wonderful City.\n",
        "<br>\n",
        "Let's start our analysis."
      ]
    },
    {
      "cell_type": "markdown",
      "metadata": {
        "id": "7vh4at0l90nr"
      },
      "source": [
        "###  Importing our data\n",
        "\n",
        "In this analysis we will be using `pandas` and `matplotlib`. The first one helps us to manipulate our dataset and the second is great for data visualization.<br>\n",
        "<br>\n",
        "`DATA_URL` contains the link to our dataset, and `pd` is responsible for reading the link, opening it up and casting it into a workable sheet."
      ]
    },
    {
      "cell_type": "code",
      "metadata": {
        "id": "osliKbLIRx8x"
      },
      "source": [
        "#importing our modules\n",
        "import pandas as pd\n",
        "import matplotlib.pyplot as plt"
      ],
      "execution_count": 25,
      "outputs": []
    },
    {
      "cell_type": "code",
      "metadata": {
        "id": "CYLNme_OCX_R"
      },
      "source": [
        "#importing our data\n",
        "DATA_URL = 'https://raw.githubusercontent.com/carlosfab/dsnp2/master/datasets/violencia_rio.csv'\n",
        "df = pd.read_csv(DATA_URL)"
      ],
      "execution_count": 26,
      "outputs": []
    },
    {
      "cell_type": "code",
      "metadata": {
        "id": "mY0gcTN-FXGx",
        "cellView": "form"
      },
      "source": [
        "#@title Hidden Cell - Here I translated the dataset to english, since it was in portuguese. I hide the cell because the code is useless for our analysis\n",
        "columns_translated = {\n",
        "    'vano': 'year',\n",
        "    'mes': 'month',\n",
        "    'hom_doloso': 'willful_homicide',\n",
        "    'lesao_corp_morte': 'bodily_injury_death',\n",
        "    'latricinio': 'robbery_with_death',\n",
        "    'hom_por_interv_policial': 'homicide_by_police_interv',\n",
        "    'tentat_hom': 'attempt_of_homicide',\n",
        "    'lesao_corp_dolosa' : 'willful_bodily_injury',\n",
        "    'estupro':'rape',\n",
        "    'hom_culposo':'manslaughter',\n",
        "    'lesao_corp_culposa':'unintent_bodily_injury',\n",
        "    'roubo_comercio': 'shoplifting',\n",
        "    'roubo_residencia':'residence_robbery',\n",
        "    'roubo_veiculo': 'car_jacking',\n",
        "    'roubo_carga': 'cargo_robbery',\n",
        "    'roubo_transeunte': 'mugging',\n",
        "    'roubo_em_coletivo':'group_robbery',\n",
        "    'roubo_banco': 'bank_robbery',\n",
        "    'roubo_cx_eletronico':'atm_robbery',\n",
        "    'roubo_celular': 'cellphone_robbery',\n",
        "    'roubo_conducao_saque': 'bank_withdrawed_money_robbery',\n",
        "    'roubo_apos_saque': 'robbery_after_withdraw_money',\n",
        "    'roubo_bicicleta': 'bicycle_robbery',\n",
        "    'outros_roubos': 'other_robbery',\n",
        "    'total_roubos': 'total_robberies',\n",
        "    'furto_veiculos': 'vehicle_theft',\n",
        "    'furto_transeunte': 'mugging_theft',\n",
        "    'furto_coletivo': 'group_thefting',\n",
        "    'furto_celular': 'cellphone_theft',\n",
        "    'furto_bicicleta': 'bicycle_theft',\n",
        "    'outros_furtos': 'other_theft',\n",
        "    'total_furtos': 'total_thefts',\n",
        "    'sequestro': 'kidnapping',\n",
        "    'extorsao':'extortion',\n",
        "    'sequestro_relampago': 'express_kidnapping',\n",
        "    'estelionato': 'embezzlement',\n",
        "    'apreensao_drogas':'drug_seizure',\n",
        "    'posse_drogas': 'drug_possession',\n",
        "    'trafico_drogas': 'drug_dealing',\n",
        "    'apreensao_drogas_sem_autor':'drug_seizure_without_owner',\n",
        "    'recuperacao_veiculos':'recovered_cars',\n",
        "    'apf': 'arrest_in_the_act',\n",
        "    'aaapai':'saapia',\n",
        "    'cmp':'fulfilled_prison',\n",
        "    'cmba': 'sswcr',\n",
        "    'ameaca':'threatening',\n",
        "    'pessoas_desaparecidas': 'missing_people',\n",
        "    'encontro_cadaver': 'dead_body_found',\n",
        "    'encontro_ossada': 'bones_found',\n",
        "    'pol_militares_mortos_serv': 'militar_cops_killed_serving',\n",
        "    'pol_civis_mortos_serv': 'civil_cops_killed_serving',\n",
        "    'indicador_letalidade': 'lethality_rate',\n",
        "    'indicador_roubo_rua': 'rate_street_robbery',\n",
        "    'indicador_roubo_veic': 'rate_vehicle_robbery',\n",
        "    'registro_ocorrencias': 'occurrence_records',\n",
        "    'fase':'phases',\n",
        "}\n",
        "df.rename(columns=columns_translated, inplace=True)"
      ],
      "execution_count": 27,
      "outputs": []
    },
    {
      "cell_type": "markdown",
      "metadata": {
        "id": "qb5By2nIMS6m"
      },
      "source": [
        "## Initial Analysis\n",
        "\n",
        "Before we try to take any insights out of our dataset, we need to have a look at it and clean it.<br>\n",
        "Let's check the size of our dataset, by using the `shape` method:"
      ]
    },
    {
      "cell_type": "code",
      "metadata": {
        "colab": {
          "base_uri": "https://localhost:8080/"
        },
        "id": "vvBW6OzSNS2n",
        "outputId": "29c4e324-5a93-4f98-ca25-79bd7feb12a8"
      },
      "source": [
        "#DATA SET SHAPE\n",
        "print('Number of rows: {}'.format(df.shape[0]))\n",
        "print('Number of columns: {}'.format(df.shape[1]))"
      ],
      "execution_count": 28,
      "outputs": [
        {
          "output_type": "stream",
          "text": [
            "Number of rows: 344\n",
            "Number of columns: 56\n"
          ],
          "name": "stdout"
        }
      ]
    },
    {
      "cell_type": "markdown",
      "metadata": {
        "id": "SFxOorhaqGpi"
      },
      "source": [
        "As you can see above, our dataset is composed of 344 rows and 56 columns.<br>\n",
        "<br>\n",
        "Now let's extract and print the name of our columns, by using the `columns` method.\n"
      ]
    },
    {
      "cell_type": "code",
      "metadata": {
        "colab": {
          "base_uri": "https://localhost:8080/"
        },
        "id": "z20-UboUNXsW",
        "outputId": "c7301ee9-5838-459d-d7b6-b007370a9853"
      },
      "source": [
        "#Extract and print column names\n",
        "df.columns"
      ],
      "execution_count": 29,
      "outputs": [
        {
          "output_type": "execute_result",
          "data": {
            "text/plain": [
              "Index(['year', 'month', 'willful_homicide', 'bodily_injury_death',\n",
              "       'latrocinio', 'homicide_by_police_interv', 'attempt_of_homicide',\n",
              "       'willful_bodily_injury', 'rape', 'manslaughter',\n",
              "       'unintent_bodily_injury', 'shoplifting', 'residence_robbery',\n",
              "       'car_jacking', 'cargo_robbery', 'mugging', 'group_robbery',\n",
              "       'bank_robbery', 'atm_robbery', 'cellphone_robbery',\n",
              "       'bank_withdrawed_money_robbery', 'robbery_after_withdraw_money',\n",
              "       'bicycle_robbery', 'other_robbery', 'total_robberies', 'vehicle_theft',\n",
              "       'mugging_theft', 'group_thefting', 'cellphone_theft', 'bicycle_theft',\n",
              "       'other_theft', 'total_thefts', 'kidnapping', 'extortion',\n",
              "       'express_kidnapping', 'embezzlement', 'drug_seizure', 'drug_possession',\n",
              "       'drug_dealing', 'drug_seizure_without_owner', 'recovered_cars',\n",
              "       'arrest_in_the_act', 'saapia', 'fulfilled_prison', 'sswcr',\n",
              "       'threatening', 'missing_people', 'dead_body_found', 'bones_found',\n",
              "       'militar_cops_killed_serving', 'civil_cops_killed_serving',\n",
              "       'lethality_rate', 'rate_street_robbery', 'rate_vehicle_robbery',\n",
              "       'occurrence_records', 'phases'],\n",
              "      dtype='object')"
            ]
          },
          "metadata": {
            "tags": []
          },
          "execution_count": 29
        }
      ]
    },
    {
      "cell_type": "markdown",
      "metadata": {
        "id": "tSmFv-97wiw4"
      },
      "source": [
        "There we go. If you wanted to you could also add them to a list by simply typing `column_list = list(df.columns)`.<br>\n",
        "<br>\n",
        "Now that we know the size and the column names of our dataset, let's check the **data types** of it by using the `dytpes` method. This is a really **important step**, since sometimes our numbers may be strings (text) instead of an integer or a float, in that case you would have to cast them, since you wouldn't be able to manipulate them as numbers, but as text."
      ]
    },
    {
      "cell_type": "code",
      "metadata": {
        "colab": {
          "base_uri": "https://localhost:8080/"
        },
        "id": "PzGM-mfmNhvH",
        "outputId": "4ccc5fa0-4c22-4c92-f92e-f18f8243ee46"
      },
      "source": [
        "#checking the data types\n",
        "df.dtypes"
      ],
      "execution_count": 30,
      "outputs": [
        {
          "output_type": "execute_result",
          "data": {
            "text/plain": [
              "year                               int64\n",
              "month                              int64\n",
              "willful_homicide                   int64\n",
              "bodily_injury_death              float64\n",
              "latrocinio                         int64\n",
              "homicide_by_police_interv        float64\n",
              "attempt_of_homicide                int64\n",
              "willful_bodily_injury              int64\n",
              "rape                             float64\n",
              "manslaughter                     float64\n",
              "unintent_bodily_injury           float64\n",
              "shoplifting                        int64\n",
              "residence_robbery                  int64\n",
              "car_jacking                        int64\n",
              "cargo_robbery                      int64\n",
              "mugging                            int64\n",
              "group_robbery                      int64\n",
              "bank_robbery                       int64\n",
              "atm_robbery                      float64\n",
              "cellphone_robbery                float64\n",
              "bank_withdrawed_money_robbery    float64\n",
              "robbery_after_withdraw_money     float64\n",
              "bicycle_robbery                  float64\n",
              "other_robbery                      int64\n",
              "total_robberies                    int64\n",
              "vehicle_theft                      int64\n",
              "mugging_theft                      int64\n",
              "group_thefting                   float64\n",
              "cellphone_theft                  float64\n",
              "bicycle_theft                    float64\n",
              "other_theft                        int64\n",
              "total_thefts                       int64\n",
              "kidnapping                       float64\n",
              "extortion                        float64\n",
              "express_kidnapping               float64\n",
              "embezzlement                     float64\n",
              "drug_seizure                       int64\n",
              "drug_possession                  float64\n",
              "drug_dealing                     float64\n",
              "drug_seizure_without_owner       float64\n",
              "recovered_cars                     int64\n",
              "arrest_in_the_act                float64\n",
              "saapia                           float64\n",
              "fulfilled_prison                 float64\n",
              "sswcr                            float64\n",
              "threatening                      float64\n",
              "missing_people                   float64\n",
              "dead_body_found                    int64\n",
              "bones_found                      float64\n",
              "militar_cops_killed_serving      float64\n",
              "civil_cops_killed_serving        float64\n",
              "lethality_rate                     int64\n",
              "rate_street_robbery                int64\n",
              "rate_vehicle_robbery               int64\n",
              "occurrence_records               float64\n",
              "phases                             int64\n",
              "dtype: object"
            ]
          },
          "metadata": {
            "tags": []
          },
          "execution_count": 30
        }
      ]
    },
    {
      "cell_type": "markdown",
      "metadata": {
        "id": "iB6izZq8x4HX"
      },
      "source": [
        "**All of the data are numbers, either floats or integers**, there are no strings, this makes our lives easier. But don't be fooled, most of the time cleaning data takes effort.<br>\n",
        "<br>\n",
        "Finally let's display the first five rows, you can use the `.head()` method to do that."
      ]
    },
    {
      "cell_type": "code",
      "metadata": {
        "colab": {
          "base_uri": "https://localhost:8080/",
          "height": 224
        },
        "id": "IkpmCWw_NmoD",
        "outputId": "c22bfbda-4ec9-4c96-b68b-8fc958fa2711"
      },
      "source": [
        "#displaying first 5 rows\n",
        "df.head()"
      ],
      "execution_count": null,
      "outputs": [
        {
          "output_type": "execute_result",
          "data": {
            "text/html": [
              "<div>\n",
              "<style scoped>\n",
              "    .dataframe tbody tr th:only-of-type {\n",
              "        vertical-align: middle;\n",
              "    }\n",
              "\n",
              "    .dataframe tbody tr th {\n",
              "        vertical-align: top;\n",
              "    }\n",
              "\n",
              "    .dataframe thead th {\n",
              "        text-align: right;\n",
              "    }\n",
              "</style>\n",
              "<table border=\"1\" class=\"dataframe\">\n",
              "  <thead>\n",
              "    <tr style=\"text-align: right;\">\n",
              "      <th></th>\n",
              "      <th>year</th>\n",
              "      <th>month</th>\n",
              "      <th>willful_homicide</th>\n",
              "      <th>bodily_injury_death</th>\n",
              "      <th>latrocinio</th>\n",
              "      <th>homicide_by_police_interv</th>\n",
              "      <th>attempt_of_homicide</th>\n",
              "      <th>willful_bodily_injury</th>\n",
              "      <th>rape</th>\n",
              "      <th>manslaughter</th>\n",
              "      <th>unintent_bodily_injury</th>\n",
              "      <th>shoplifting</th>\n",
              "      <th>residence_robbery</th>\n",
              "      <th>car_jacking</th>\n",
              "      <th>cargo_robbery</th>\n",
              "      <th>mugging</th>\n",
              "      <th>group_robbery</th>\n",
              "      <th>bank_robbery</th>\n",
              "      <th>atm_robbery</th>\n",
              "      <th>cellphone_robbery</th>\n",
              "      <th>bank_withdrawed_money_robbery</th>\n",
              "      <th>robbery_after_withdraw_money</th>\n",
              "      <th>bicycle_robbery</th>\n",
              "      <th>other_robbery</th>\n",
              "      <th>total_robberies</th>\n",
              "      <th>vehicle_theft</th>\n",
              "      <th>mugging_theft</th>\n",
              "      <th>group_thefting</th>\n",
              "      <th>cellphone_theft</th>\n",
              "      <th>bicycle_theft</th>\n",
              "      <th>other_theft</th>\n",
              "      <th>total_thefts</th>\n",
              "      <th>kidnapping</th>\n",
              "      <th>extortion</th>\n",
              "      <th>express_kidnapping</th>\n",
              "      <th>embezzlement</th>\n",
              "      <th>drug_seizure</th>\n",
              "      <th>drug_possession</th>\n",
              "      <th>drug_dealing</th>\n",
              "      <th>drug_seizure_without_owner</th>\n",
              "      <th>recovered_cars</th>\n",
              "      <th>arrest_in_the_act</th>\n",
              "      <th>saapia</th>\n",
              "      <th>fulfilled_prison</th>\n",
              "      <th>sswcr</th>\n",
              "      <th>threatening</th>\n",
              "      <th>missing_people</th>\n",
              "      <th>dead_body_found</th>\n",
              "      <th>bones_found</th>\n",
              "      <th>militar_cops_killed_serving</th>\n",
              "      <th>civil_cops_killed_serving</th>\n",
              "      <th>lethality_rate</th>\n",
              "      <th>rate_street_robbery</th>\n",
              "      <th>rate_vehicle_robbery</th>\n",
              "      <th>occurrence_records</th>\n",
              "      <th>phases</th>\n",
              "    </tr>\n",
              "  </thead>\n",
              "  <tbody>\n",
              "    <tr>\n",
              "      <th>0</th>\n",
              "      <td>1991</td>\n",
              "      <td>1</td>\n",
              "      <td>657</td>\n",
              "      <td>NaN</td>\n",
              "      <td>15</td>\n",
              "      <td>NaN</td>\n",
              "      <td>162</td>\n",
              "      <td>3051</td>\n",
              "      <td>NaN</td>\n",
              "      <td>NaN</td>\n",
              "      <td>NaN</td>\n",
              "      <td>350</td>\n",
              "      <td>188</td>\n",
              "      <td>1174</td>\n",
              "      <td>63</td>\n",
              "      <td>967</td>\n",
              "      <td>381</td>\n",
              "      <td>37</td>\n",
              "      <td>NaN</td>\n",
              "      <td>NaN</td>\n",
              "      <td>NaN</td>\n",
              "      <td>NaN</td>\n",
              "      <td>NaN</td>\n",
              "      <td>158</td>\n",
              "      <td>3318</td>\n",
              "      <td>2009</td>\n",
              "      <td>1147</td>\n",
              "      <td>NaN</td>\n",
              "      <td>NaN</td>\n",
              "      <td>NaN</td>\n",
              "      <td>3561</td>\n",
              "      <td>6717</td>\n",
              "      <td>NaN</td>\n",
              "      <td>NaN</td>\n",
              "      <td>NaN</td>\n",
              "      <td>NaN</td>\n",
              "      <td>133</td>\n",
              "      <td>NaN</td>\n",
              "      <td>NaN</td>\n",
              "      <td>NaN</td>\n",
              "      <td>872</td>\n",
              "      <td>NaN</td>\n",
              "      <td>NaN</td>\n",
              "      <td>NaN</td>\n",
              "      <td>NaN</td>\n",
              "      <td>NaN</td>\n",
              "      <td>NaN</td>\n",
              "      <td>217</td>\n",
              "      <td>NaN</td>\n",
              "      <td>NaN</td>\n",
              "      <td>NaN</td>\n",
              "      <td>672</td>\n",
              "      <td>1348</td>\n",
              "      <td>1174</td>\n",
              "      <td>NaN</td>\n",
              "      <td>3</td>\n",
              "    </tr>\n",
              "    <tr>\n",
              "      <th>1</th>\n",
              "      <td>1991</td>\n",
              "      <td>2</td>\n",
              "      <td>732</td>\n",
              "      <td>NaN</td>\n",
              "      <td>17</td>\n",
              "      <td>NaN</td>\n",
              "      <td>175</td>\n",
              "      <td>3421</td>\n",
              "      <td>NaN</td>\n",
              "      <td>NaN</td>\n",
              "      <td>NaN</td>\n",
              "      <td>357</td>\n",
              "      <td>171</td>\n",
              "      <td>1097</td>\n",
              "      <td>64</td>\n",
              "      <td>963</td>\n",
              "      <td>432</td>\n",
              "      <td>35</td>\n",
              "      <td>NaN</td>\n",
              "      <td>NaN</td>\n",
              "      <td>NaN</td>\n",
              "      <td>NaN</td>\n",
              "      <td>NaN</td>\n",
              "      <td>142</td>\n",
              "      <td>3261</td>\n",
              "      <td>1850</td>\n",
              "      <td>1066</td>\n",
              "      <td>NaN</td>\n",
              "      <td>NaN</td>\n",
              "      <td>NaN</td>\n",
              "      <td>3309</td>\n",
              "      <td>6225</td>\n",
              "      <td>NaN</td>\n",
              "      <td>NaN</td>\n",
              "      <td>NaN</td>\n",
              "      <td>NaN</td>\n",
              "      <td>127</td>\n",
              "      <td>NaN</td>\n",
              "      <td>NaN</td>\n",
              "      <td>NaN</td>\n",
              "      <td>751</td>\n",
              "      <td>NaN</td>\n",
              "      <td>NaN</td>\n",
              "      <td>NaN</td>\n",
              "      <td>NaN</td>\n",
              "      <td>NaN</td>\n",
              "      <td>NaN</td>\n",
              "      <td>209</td>\n",
              "      <td>NaN</td>\n",
              "      <td>NaN</td>\n",
              "      <td>NaN</td>\n",
              "      <td>749</td>\n",
              "      <td>1395</td>\n",
              "      <td>1097</td>\n",
              "      <td>NaN</td>\n",
              "      <td>3</td>\n",
              "    </tr>\n",
              "    <tr>\n",
              "      <th>2</th>\n",
              "      <td>1991</td>\n",
              "      <td>3</td>\n",
              "      <td>713</td>\n",
              "      <td>NaN</td>\n",
              "      <td>25</td>\n",
              "      <td>NaN</td>\n",
              "      <td>216</td>\n",
              "      <td>3613</td>\n",
              "      <td>NaN</td>\n",
              "      <td>NaN</td>\n",
              "      <td>NaN</td>\n",
              "      <td>443</td>\n",
              "      <td>191</td>\n",
              "      <td>1265</td>\n",
              "      <td>71</td>\n",
              "      <td>963</td>\n",
              "      <td>422</td>\n",
              "      <td>43</td>\n",
              "      <td>NaN</td>\n",
              "      <td>NaN</td>\n",
              "      <td>NaN</td>\n",
              "      <td>NaN</td>\n",
              "      <td>NaN</td>\n",
              "      <td>131</td>\n",
              "      <td>3529</td>\n",
              "      <td>2084</td>\n",
              "      <td>1062</td>\n",
              "      <td>NaN</td>\n",
              "      <td>NaN</td>\n",
              "      <td>NaN</td>\n",
              "      <td>3573</td>\n",
              "      <td>6719</td>\n",
              "      <td>NaN</td>\n",
              "      <td>NaN</td>\n",
              "      <td>NaN</td>\n",
              "      <td>NaN</td>\n",
              "      <td>80</td>\n",
              "      <td>NaN</td>\n",
              "      <td>NaN</td>\n",
              "      <td>NaN</td>\n",
              "      <td>789</td>\n",
              "      <td>NaN</td>\n",
              "      <td>NaN</td>\n",
              "      <td>NaN</td>\n",
              "      <td>NaN</td>\n",
              "      <td>NaN</td>\n",
              "      <td>NaN</td>\n",
              "      <td>188</td>\n",
              "      <td>NaN</td>\n",
              "      <td>NaN</td>\n",
              "      <td>NaN</td>\n",
              "      <td>738</td>\n",
              "      <td>1385</td>\n",
              "      <td>1265</td>\n",
              "      <td>NaN</td>\n",
              "      <td>3</td>\n",
              "    </tr>\n",
              "    <tr>\n",
              "      <th>3</th>\n",
              "      <td>1991</td>\n",
              "      <td>4</td>\n",
              "      <td>634</td>\n",
              "      <td>NaN</td>\n",
              "      <td>20</td>\n",
              "      <td>NaN</td>\n",
              "      <td>200</td>\n",
              "      <td>3211</td>\n",
              "      <td>NaN</td>\n",
              "      <td>NaN</td>\n",
              "      <td>NaN</td>\n",
              "      <td>425</td>\n",
              "      <td>199</td>\n",
              "      <td>1415</td>\n",
              "      <td>81</td>\n",
              "      <td>1186</td>\n",
              "      <td>354</td>\n",
              "      <td>36</td>\n",
              "      <td>NaN</td>\n",
              "      <td>NaN</td>\n",
              "      <td>NaN</td>\n",
              "      <td>NaN</td>\n",
              "      <td>NaN</td>\n",
              "      <td>112</td>\n",
              "      <td>3808</td>\n",
              "      <td>2085</td>\n",
              "      <td>1195</td>\n",
              "      <td>NaN</td>\n",
              "      <td>NaN</td>\n",
              "      <td>NaN</td>\n",
              "      <td>3290</td>\n",
              "      <td>6570</td>\n",
              "      <td>NaN</td>\n",
              "      <td>NaN</td>\n",
              "      <td>NaN</td>\n",
              "      <td>NaN</td>\n",
              "      <td>133</td>\n",
              "      <td>NaN</td>\n",
              "      <td>NaN</td>\n",
              "      <td>NaN</td>\n",
              "      <td>787</td>\n",
              "      <td>NaN</td>\n",
              "      <td>NaN</td>\n",
              "      <td>NaN</td>\n",
              "      <td>NaN</td>\n",
              "      <td>NaN</td>\n",
              "      <td>NaN</td>\n",
              "      <td>140</td>\n",
              "      <td>NaN</td>\n",
              "      <td>NaN</td>\n",
              "      <td>NaN</td>\n",
              "      <td>654</td>\n",
              "      <td>1540</td>\n",
              "      <td>1415</td>\n",
              "      <td>NaN</td>\n",
              "      <td>3</td>\n",
              "    </tr>\n",
              "    <tr>\n",
              "      <th>4</th>\n",
              "      <td>1991</td>\n",
              "      <td>5</td>\n",
              "      <td>650</td>\n",
              "      <td>NaN</td>\n",
              "      <td>20</td>\n",
              "      <td>NaN</td>\n",
              "      <td>146</td>\n",
              "      <td>3051</td>\n",
              "      <td>NaN</td>\n",
              "      <td>NaN</td>\n",
              "      <td>NaN</td>\n",
              "      <td>553</td>\n",
              "      <td>231</td>\n",
              "      <td>1449</td>\n",
              "      <td>82</td>\n",
              "      <td>931</td>\n",
              "      <td>335</td>\n",
              "      <td>27</td>\n",
              "      <td>NaN</td>\n",
              "      <td>NaN</td>\n",
              "      <td>NaN</td>\n",
              "      <td>NaN</td>\n",
              "      <td>NaN</td>\n",
              "      <td>147</td>\n",
              "      <td>3755</td>\n",
              "      <td>2185</td>\n",
              "      <td>723</td>\n",
              "      <td>NaN</td>\n",
              "      <td>NaN</td>\n",
              "      <td>NaN</td>\n",
              "      <td>3546</td>\n",
              "      <td>6454</td>\n",
              "      <td>NaN</td>\n",
              "      <td>NaN</td>\n",
              "      <td>NaN</td>\n",
              "      <td>NaN</td>\n",
              "      <td>163</td>\n",
              "      <td>NaN</td>\n",
              "      <td>NaN</td>\n",
              "      <td>NaN</td>\n",
              "      <td>845</td>\n",
              "      <td>NaN</td>\n",
              "      <td>NaN</td>\n",
              "      <td>NaN</td>\n",
              "      <td>NaN</td>\n",
              "      <td>NaN</td>\n",
              "      <td>NaN</td>\n",
              "      <td>78</td>\n",
              "      <td>NaN</td>\n",
              "      <td>NaN</td>\n",
              "      <td>NaN</td>\n",
              "      <td>670</td>\n",
              "      <td>1266</td>\n",
              "      <td>1449</td>\n",
              "      <td>NaN</td>\n",
              "      <td>3</td>\n",
              "    </tr>\n",
              "  </tbody>\n",
              "</table>\n",
              "</div>"
            ],
            "text/plain": [
              "   year  month  ...  occurrence_records  phases\n",
              "0  1991      1  ...                 NaN       3\n",
              "1  1991      2  ...                 NaN       3\n",
              "2  1991      3  ...                 NaN       3\n",
              "3  1991      4  ...                 NaN       3\n",
              "4  1991      5  ...                 NaN       3\n",
              "\n",
              "[5 rows x 56 columns]"
            ]
          },
          "metadata": {
            "tags": []
          },
          "execution_count": 285
        }
      ]
    },
    {
      "cell_type": "markdown",
      "metadata": {
        "id": "sAoBhAlKzLuu"
      },
      "source": [
        "You can have a look at the first five rows, that's a great way to get to know what you are working with. <br>\n",
        "<br>\n",
        "\n",
        "## **Cleaning Data**\n",
        "We can see that there are lots of `NaN` values, which are pretty much empty. <br>\n",
        "Before we try to clean them, let's check what percentage they represent of our dataset.<br>\n",
        "To do this I will **sum all the missing values of each column, divide it by the number of rows and then multiply it by 100**, which will return us the percentage of missing data for each column."
      ]
    },
    {
      "cell_type": "code",
      "metadata": {
        "colab": {
          "base_uri": "https://localhost:8080/"
        },
        "id": "EyB1jwKDOrFE",
        "outputId": "573ea7c5-e814-4930-915f-21e74e9036f2"
      },
      "source": [
        "#Checking percentage of missing data\n",
        "((df.isnull().sum() / df.shape[0]) * 100).sort_values(ascending=False)"
      ],
      "execution_count": 31,
      "outputs": [
        {
          "output_type": "execute_result",
          "data": {
            "text/plain": [
              "bicycle_robbery                  80.232558\n",
              "bicycle_theft                    80.232558\n",
              "drug_seizure_without_owner       52.325581\n",
              "drug_possession                  52.325581\n",
              "arrest_in_the_act                52.325581\n",
              "saapia                           52.325581\n",
              "fulfilled_prison                 52.325581\n",
              "drug_dealing                     52.325581\n",
              "sswcr                            52.325581\n",
              "express_kidnapping               41.860465\n",
              "group_thefting                   41.860465\n",
              "extortion                        41.860465\n",
              "cellphone_theft                  41.860465\n",
              "robbery_after_withdraw_money     41.860465\n",
              "bank_withdrawed_money_robbery    41.860465\n",
              "atm_robbery                      41.860465\n",
              "rape                             41.860465\n",
              "embezzlement                     41.860465\n",
              "civil_cops_killed_serving        41.860465\n",
              "militar_cops_killed_serving      41.860465\n",
              "missing_people                   38.372093\n",
              "bones_found                      38.372093\n",
              "cellphone_robbery                31.395349\n",
              "unintent_bodily_injury           27.906977\n",
              "threatening                      27.906977\n",
              "kidnapping                       27.906977\n",
              "bodily_injury_death              27.906977\n",
              "occurrence_records               27.906977\n",
              "homicide_by_police_interv        24.418605\n",
              "manslaughter                     24.418605\n",
              "attempt_of_homicide               0.000000\n",
              "shoplifting                       0.000000\n",
              "residence_robbery                 0.000000\n",
              "latrocinio                        0.000000\n",
              "willful_bodily_injury             0.000000\n",
              "willful_homicide                  0.000000\n",
              "mugging                           0.000000\n",
              "month                             0.000000\n",
              "car_jacking                       0.000000\n",
              "cargo_robbery                     0.000000\n",
              "phases                            0.000000\n",
              "group_robbery                     0.000000\n",
              "bank_robbery                      0.000000\n",
              "other_robbery                     0.000000\n",
              "total_robberies                   0.000000\n",
              "vehicle_theft                     0.000000\n",
              "mugging_theft                     0.000000\n",
              "other_theft                       0.000000\n",
              "total_thefts                      0.000000\n",
              "drug_seizure                      0.000000\n",
              "recovered_cars                    0.000000\n",
              "dead_body_found                   0.000000\n",
              "lethality_rate                    0.000000\n",
              "rate_street_robbery               0.000000\n",
              "rate_vehicle_robbery              0.000000\n",
              "year                              0.000000\n",
              "dtype: float64"
            ]
          },
          "metadata": {
            "tags": []
          },
          "execution_count": 31
        }
      ]
    },
    {
      "cell_type": "markdown",
      "metadata": {
        "id": "j5RvQFOh1MuZ"
      },
      "source": [
        "As we can see `bicycle_theft` is 80% null, `drug_dealing` is 52% null, `rape` is 42% null, and many others got empty values too.<br>\n",
        "This can be prejudicial to our analysis. Data Scientists often decide between erasing missing data or filling those cells with the column's median value. <br>\n",
        "<br>\n",
        "However, our dataset goes from 1991 to 2019, therefore filling NaN values from the 90s by finding a mean or median from 1991 to 2019 would not work so well. Therefore, I decided to work only with data from 2009 to 2019.<br>\n",
        "Let's clean our dataset, so we get data only from after 2009.<br>\n",
        "I will copy our `df` to `df_clean`, so our original data is preserved."
      ]
    },
    {
      "cell_type": "code",
      "metadata": {
        "id": "MQrVwpXMHAUG"
      },
      "source": [
        "df_clean = df.copy() # copying df to df_clean\n",
        "df_clean.drop(df_clean[df_clean.year < 2009].index, inplace=True) # erasing data with year smaller than 2009"
      ],
      "execution_count": 48,
      "outputs": []
    },
    {
      "cell_type": "markdown",
      "metadata": {
        "id": "IukWmwj8PP6E"
      },
      "source": [
        "There we go, now we only got values with year equal or greater than 2009.<br>\n",
        "Let's check out the first 5 rows."
      ]
    },
    {
      "cell_type": "code",
      "metadata": {
        "colab": {
          "base_uri": "https://localhost:8080/",
          "height": 224
        },
        "id": "sQI0H6fzkxar",
        "outputId": "f3a73083-7c03-4154-ae50-a57dae512e17"
      },
      "source": [
        "# Checking the first 5 rows\n",
        "df_clean.head()"
      ],
      "execution_count": 50,
      "outputs": [
        {
          "output_type": "execute_result",
          "data": {
            "text/html": [
              "<div>\n",
              "<style scoped>\n",
              "    .dataframe tbody tr th:only-of-type {\n",
              "        vertical-align: middle;\n",
              "    }\n",
              "\n",
              "    .dataframe tbody tr th {\n",
              "        vertical-align: top;\n",
              "    }\n",
              "\n",
              "    .dataframe thead th {\n",
              "        text-align: right;\n",
              "    }\n",
              "</style>\n",
              "<table border=\"1\" class=\"dataframe\">\n",
              "  <thead>\n",
              "    <tr style=\"text-align: right;\">\n",
              "      <th></th>\n",
              "      <th>year</th>\n",
              "      <th>month</th>\n",
              "      <th>willful_homicide</th>\n",
              "      <th>bodily_injury_death</th>\n",
              "      <th>latrocinio</th>\n",
              "      <th>homicide_by_police_interv</th>\n",
              "      <th>attempt_of_homicide</th>\n",
              "      <th>willful_bodily_injury</th>\n",
              "      <th>rape</th>\n",
              "      <th>manslaughter</th>\n",
              "      <th>unintent_bodily_injury</th>\n",
              "      <th>shoplifting</th>\n",
              "      <th>residence_robbery</th>\n",
              "      <th>car_jacking</th>\n",
              "      <th>cargo_robbery</th>\n",
              "      <th>mugging</th>\n",
              "      <th>group_robbery</th>\n",
              "      <th>bank_robbery</th>\n",
              "      <th>atm_robbery</th>\n",
              "      <th>cellphone_robbery</th>\n",
              "      <th>bank_withdrawed_money_robbery</th>\n",
              "      <th>robbery_after_withdraw_money</th>\n",
              "      <th>bicycle_robbery</th>\n",
              "      <th>other_robbery</th>\n",
              "      <th>total_robberies</th>\n",
              "      <th>vehicle_theft</th>\n",
              "      <th>mugging_theft</th>\n",
              "      <th>group_thefting</th>\n",
              "      <th>cellphone_theft</th>\n",
              "      <th>bicycle_theft</th>\n",
              "      <th>other_theft</th>\n",
              "      <th>total_thefts</th>\n",
              "      <th>kidnapping</th>\n",
              "      <th>extortion</th>\n",
              "      <th>express_kidnapping</th>\n",
              "      <th>embezzlement</th>\n",
              "      <th>drug_seizure</th>\n",
              "      <th>drug_possession</th>\n",
              "      <th>drug_dealing</th>\n",
              "      <th>drug_seizure_without_owner</th>\n",
              "      <th>recovered_cars</th>\n",
              "      <th>arrest_in_the_act</th>\n",
              "      <th>saapia</th>\n",
              "      <th>fulfilled_prison</th>\n",
              "      <th>sswcr</th>\n",
              "      <th>threatening</th>\n",
              "      <th>missing_people</th>\n",
              "      <th>dead_body_found</th>\n",
              "      <th>bones_found</th>\n",
              "      <th>militar_cops_killed_serving</th>\n",
              "      <th>civil_cops_killed_serving</th>\n",
              "      <th>lethality_rate</th>\n",
              "      <th>rate_street_robbery</th>\n",
              "      <th>rate_vehicle_robbery</th>\n",
              "      <th>occurrence_records</th>\n",
              "      <th>phases</th>\n",
              "    </tr>\n",
              "  </thead>\n",
              "  <tbody>\n",
              "    <tr>\n",
              "      <th>216</th>\n",
              "      <td>2009</td>\n",
              "      <td>1</td>\n",
              "      <td>551</td>\n",
              "      <td>2.0</td>\n",
              "      <td>13</td>\n",
              "      <td>94.0</td>\n",
              "      <td>378</td>\n",
              "      <td>6631</td>\n",
              "      <td>381.0</td>\n",
              "      <td>189.0</td>\n",
              "      <td>3167.0</td>\n",
              "      <td>392</td>\n",
              "      <td>125</td>\n",
              "      <td>2573</td>\n",
              "      <td>212</td>\n",
              "      <td>6145</td>\n",
              "      <td>829</td>\n",
              "      <td>5</td>\n",
              "      <td>6.0</td>\n",
              "      <td>718.0</td>\n",
              "      <td>12.0</td>\n",
              "      <td>159.0</td>\n",
              "      <td>NaN</td>\n",
              "      <td>1156</td>\n",
              "      <td>12332</td>\n",
              "      <td>1789</td>\n",
              "      <td>2394</td>\n",
              "      <td>630.0</td>\n",
              "      <td>1990.0</td>\n",
              "      <td>NaN</td>\n",
              "      <td>7882</td>\n",
              "      <td>14685</td>\n",
              "      <td>0.0</td>\n",
              "      <td>73.0</td>\n",
              "      <td>7.0</td>\n",
              "      <td>1752.0</td>\n",
              "      <td>830</td>\n",
              "      <td>313.0</td>\n",
              "      <td>373.0</td>\n",
              "      <td>162.0</td>\n",
              "      <td>1883</td>\n",
              "      <td>1683.0</td>\n",
              "      <td>307.0</td>\n",
              "      <td>803.0</td>\n",
              "      <td>34.0</td>\n",
              "      <td>6033.0</td>\n",
              "      <td>465.0</td>\n",
              "      <td>41</td>\n",
              "      <td>1.0</td>\n",
              "      <td>3.0</td>\n",
              "      <td>0.0</td>\n",
              "      <td>660</td>\n",
              "      <td>7692</td>\n",
              "      <td>2573</td>\n",
              "      <td>56360.0</td>\n",
              "      <td>3</td>\n",
              "    </tr>\n",
              "    <tr>\n",
              "      <th>217</th>\n",
              "      <td>2009</td>\n",
              "      <td>2</td>\n",
              "      <td>556</td>\n",
              "      <td>4.0</td>\n",
              "      <td>19</td>\n",
              "      <td>75.0</td>\n",
              "      <td>383</td>\n",
              "      <td>6595</td>\n",
              "      <td>322.0</td>\n",
              "      <td>204.0</td>\n",
              "      <td>3230.0</td>\n",
              "      <td>381</td>\n",
              "      <td>136</td>\n",
              "      <td>2367</td>\n",
              "      <td>188</td>\n",
              "      <td>6279</td>\n",
              "      <td>788</td>\n",
              "      <td>3</td>\n",
              "      <td>5.0</td>\n",
              "      <td>659.0</td>\n",
              "      <td>12.0</td>\n",
              "      <td>173.0</td>\n",
              "      <td>NaN</td>\n",
              "      <td>1254</td>\n",
              "      <td>12245</td>\n",
              "      <td>1691</td>\n",
              "      <td>3241</td>\n",
              "      <td>637.0</td>\n",
              "      <td>1743.0</td>\n",
              "      <td>NaN</td>\n",
              "      <td>7416</td>\n",
              "      <td>14728</td>\n",
              "      <td>0.0</td>\n",
              "      <td>123.0</td>\n",
              "      <td>6.0</td>\n",
              "      <td>1644.0</td>\n",
              "      <td>854</td>\n",
              "      <td>356.0</td>\n",
              "      <td>358.0</td>\n",
              "      <td>166.0</td>\n",
              "      <td>1742</td>\n",
              "      <td>1584.0</td>\n",
              "      <td>319.0</td>\n",
              "      <td>793.0</td>\n",
              "      <td>61.0</td>\n",
              "      <td>5889.0</td>\n",
              "      <td>414.0</td>\n",
              "      <td>50</td>\n",
              "      <td>0.0</td>\n",
              "      <td>3.0</td>\n",
              "      <td>2.0</td>\n",
              "      <td>654</td>\n",
              "      <td>7726</td>\n",
              "      <td>2367</td>\n",
              "      <td>55116.0</td>\n",
              "      <td>3</td>\n",
              "    </tr>\n",
              "    <tr>\n",
              "      <th>218</th>\n",
              "      <td>2009</td>\n",
              "      <td>3</td>\n",
              "      <td>588</td>\n",
              "      <td>5.0</td>\n",
              "      <td>30</td>\n",
              "      <td>103.0</td>\n",
              "      <td>444</td>\n",
              "      <td>7183</td>\n",
              "      <td>441.0</td>\n",
              "      <td>239.0</td>\n",
              "      <td>3493.0</td>\n",
              "      <td>465</td>\n",
              "      <td>156</td>\n",
              "      <td>2564</td>\n",
              "      <td>236</td>\n",
              "      <td>6686</td>\n",
              "      <td>926</td>\n",
              "      <td>3</td>\n",
              "      <td>3.0</td>\n",
              "      <td>782.0</td>\n",
              "      <td>18.0</td>\n",
              "      <td>182.0</td>\n",
              "      <td>NaN</td>\n",
              "      <td>1442</td>\n",
              "      <td>13463</td>\n",
              "      <td>1830</td>\n",
              "      <td>2478</td>\n",
              "      <td>762.0</td>\n",
              "      <td>1892.0</td>\n",
              "      <td>NaN</td>\n",
              "      <td>7967</td>\n",
              "      <td>14929</td>\n",
              "      <td>1.0</td>\n",
              "      <td>128.0</td>\n",
              "      <td>2.0</td>\n",
              "      <td>1975.0</td>\n",
              "      <td>980</td>\n",
              "      <td>352.0</td>\n",
              "      <td>476.0</td>\n",
              "      <td>187.0</td>\n",
              "      <td>1880</td>\n",
              "      <td>1923.0</td>\n",
              "      <td>323.0</td>\n",
              "      <td>1108.0</td>\n",
              "      <td>59.0</td>\n",
              "      <td>6719.0</td>\n",
              "      <td>553.0</td>\n",
              "      <td>50</td>\n",
              "      <td>0.0</td>\n",
              "      <td>2.0</td>\n",
              "      <td>1.0</td>\n",
              "      <td>726</td>\n",
              "      <td>8394</td>\n",
              "      <td>2564</td>\n",
              "      <td>61430.0</td>\n",
              "      <td>3</td>\n",
              "    </tr>\n",
              "    <tr>\n",
              "      <th>219</th>\n",
              "      <td>2009</td>\n",
              "      <td>4</td>\n",
              "      <td>542</td>\n",
              "      <td>3.0</td>\n",
              "      <td>27</td>\n",
              "      <td>102.0</td>\n",
              "      <td>423</td>\n",
              "      <td>6705</td>\n",
              "      <td>359.0</td>\n",
              "      <td>189.0</td>\n",
              "      <td>3073.0</td>\n",
              "      <td>450</td>\n",
              "      <td>134</td>\n",
              "      <td>2310</td>\n",
              "      <td>226</td>\n",
              "      <td>6369</td>\n",
              "      <td>769</td>\n",
              "      <td>5</td>\n",
              "      <td>6.0</td>\n",
              "      <td>711.0</td>\n",
              "      <td>10.0</td>\n",
              "      <td>191.0</td>\n",
              "      <td>NaN</td>\n",
              "      <td>1150</td>\n",
              "      <td>12331</td>\n",
              "      <td>1759</td>\n",
              "      <td>2136</td>\n",
              "      <td>688.0</td>\n",
              "      <td>1673.0</td>\n",
              "      <td>NaN</td>\n",
              "      <td>7314</td>\n",
              "      <td>13570</td>\n",
              "      <td>1.0</td>\n",
              "      <td>118.0</td>\n",
              "      <td>5.0</td>\n",
              "      <td>1609.0</td>\n",
              "      <td>856</td>\n",
              "      <td>308.0</td>\n",
              "      <td>404.0</td>\n",
              "      <td>163.0</td>\n",
              "      <td>1788</td>\n",
              "      <td>1851.0</td>\n",
              "      <td>357.0</td>\n",
              "      <td>1038.0</td>\n",
              "      <td>58.0</td>\n",
              "      <td>5922.0</td>\n",
              "      <td>429.0</td>\n",
              "      <td>39</td>\n",
              "      <td>2.0</td>\n",
              "      <td>1.0</td>\n",
              "      <td>2.0</td>\n",
              "      <td>674</td>\n",
              "      <td>7849</td>\n",
              "      <td>2310</td>\n",
              "      <td>55492.0</td>\n",
              "      <td>3</td>\n",
              "    </tr>\n",
              "    <tr>\n",
              "      <th>220</th>\n",
              "      <td>2009</td>\n",
              "      <td>5</td>\n",
              "      <td>522</td>\n",
              "      <td>0.0</td>\n",
              "      <td>14</td>\n",
              "      <td>80.0</td>\n",
              "      <td>386</td>\n",
              "      <td>6565</td>\n",
              "      <td>372.0</td>\n",
              "      <td>194.0</td>\n",
              "      <td>3571.0</td>\n",
              "      <td>418</td>\n",
              "      <td>135</td>\n",
              "      <td>2340</td>\n",
              "      <td>236</td>\n",
              "      <td>6506</td>\n",
              "      <td>780</td>\n",
              "      <td>0</td>\n",
              "      <td>12.0</td>\n",
              "      <td>799.0</td>\n",
              "      <td>17.0</td>\n",
              "      <td>191.0</td>\n",
              "      <td>NaN</td>\n",
              "      <td>1139</td>\n",
              "      <td>12573</td>\n",
              "      <td>1679</td>\n",
              "      <td>2361</td>\n",
              "      <td>740.0</td>\n",
              "      <td>1761.0</td>\n",
              "      <td>NaN</td>\n",
              "      <td>7892</td>\n",
              "      <td>14433</td>\n",
              "      <td>2.0</td>\n",
              "      <td>112.0</td>\n",
              "      <td>8.0</td>\n",
              "      <td>1956.0</td>\n",
              "      <td>878</td>\n",
              "      <td>293.0</td>\n",
              "      <td>411.0</td>\n",
              "      <td>201.0</td>\n",
              "      <td>1795</td>\n",
              "      <td>1821.0</td>\n",
              "      <td>326.0</td>\n",
              "      <td>942.0</td>\n",
              "      <td>46.0</td>\n",
              "      <td>5904.0</td>\n",
              "      <td>401.0</td>\n",
              "      <td>29</td>\n",
              "      <td>3.0</td>\n",
              "      <td>3.0</td>\n",
              "      <td>2.0</td>\n",
              "      <td>616</td>\n",
              "      <td>8085</td>\n",
              "      <td>2340</td>\n",
              "      <td>57585.0</td>\n",
              "      <td>3</td>\n",
              "    </tr>\n",
              "  </tbody>\n",
              "</table>\n",
              "</div>"
            ],
            "text/plain": [
              "     year  month  ...  occurrence_records  phases\n",
              "216  2009      1  ...             56360.0       3\n",
              "217  2009      2  ...             55116.0       3\n",
              "218  2009      3  ...             61430.0       3\n",
              "219  2009      4  ...             55492.0       3\n",
              "220  2009      5  ...             57585.0       3\n",
              "\n",
              "[5 rows x 56 columns]"
            ]
          },
          "metadata": {
            "tags": []
          },
          "execution_count": 50
        }
      ]
    },
    {
      "cell_type": "markdown",
      "metadata": {
        "id": "RmwT6iCtljMJ"
      },
      "source": [
        "It worked, great!<br>\n",
        "<br>\n",
        "How about missing data? Let's check the percentage of NaN values."
      ]
    },
    {
      "cell_type": "code",
      "metadata": {
        "colab": {
          "base_uri": "https://localhost:8080/"
        },
        "id": "2oc5nZeAPWYB",
        "outputId": "1497adb0-14df-419b-f401-9e2a7128bf3f"
      },
      "source": [
        "#checking missing values\n",
        "((df_clean.isnull().sum() / df_clean.shape[0]) * 100).sort_values(ascending=False)"
      ],
      "execution_count": 51,
      "outputs": [
        {
          "output_type": "execute_result",
          "data": {
            "text/plain": [
              "bicycle_theft                    46.875\n",
              "bicycle_robbery                  46.875\n",
              "phases                            0.000\n",
              "mugging_theft                     0.000\n",
              "total_robberies                   0.000\n",
              "other_robbery                     0.000\n",
              "robbery_after_withdraw_money      0.000\n",
              "bank_withdrawed_money_robbery     0.000\n",
              "cellphone_robbery                 0.000\n",
              "atm_robbery                       0.000\n",
              "bank_robbery                      0.000\n",
              "group_robbery                     0.000\n",
              "mugging                           0.000\n",
              "cargo_robbery                     0.000\n",
              "car_jacking                       0.000\n",
              "residence_robbery                 0.000\n",
              "shoplifting                       0.000\n",
              "unintent_bodily_injury            0.000\n",
              "manslaughter                      0.000\n",
              "rape                              0.000\n",
              "willful_bodily_injury             0.000\n",
              "attempt_of_homicide               0.000\n",
              "homicide_by_police_interv         0.000\n",
              "latrocinio                        0.000\n",
              "bodily_injury_death               0.000\n",
              "willful_homicide                  0.000\n",
              "month                             0.000\n",
              "vehicle_theft                     0.000\n",
              "group_thefting                    0.000\n",
              "occurrence_records                0.000\n",
              "saapia                            0.000\n",
              "rate_vehicle_robbery              0.000\n",
              "rate_street_robbery               0.000\n",
              "lethality_rate                    0.000\n",
              "civil_cops_killed_serving         0.000\n",
              "militar_cops_killed_serving       0.000\n",
              "bones_found                       0.000\n",
              "dead_body_found                   0.000\n",
              "missing_people                    0.000\n",
              "threatening                       0.000\n",
              "sswcr                             0.000\n",
              "fulfilled_prison                  0.000\n",
              "arrest_in_the_act                 0.000\n",
              "cellphone_theft                   0.000\n",
              "recovered_cars                    0.000\n",
              "drug_seizure_without_owner        0.000\n",
              "drug_dealing                      0.000\n",
              "drug_possession                   0.000\n",
              "drug_seizure                      0.000\n",
              "embezzlement                      0.000\n",
              "express_kidnapping                0.000\n",
              "extortion                         0.000\n",
              "kidnapping                        0.000\n",
              "total_thefts                      0.000\n",
              "other_theft                       0.000\n",
              "year                              0.000\n",
              "dtype: float64"
            ]
          },
          "metadata": {
            "tags": []
          },
          "execution_count": 51
        }
      ]
    },
    {
      "cell_type": "markdown",
      "metadata": {
        "id": "19M3IbtaPhbt"
      },
      "source": [
        "As you can see above, we only have missing data for `bicycle_theft` and `bicycle_robbery`, and they are both about 47%, way better than 80% as it was, right?<br>\n",
        "Since the years are quite close, they only have a 10 years gap, we can fill the NaN vallues with their median value."
      ]
    },
    {
      "cell_type": "code",
      "metadata": {
        "id": "mXzdQLtkm9KQ"
      },
      "source": [
        "# Filling NaN values\n",
        "df_clean.bicycle_robbery.fillna(df_clean.bicycle_robbery.median(), inplace=True)\n",
        "df_clean.bicycle_theft.fillna(df_clean.bicycle_theft.median(), inplace=True)"
      ],
      "execution_count": 66,
      "outputs": []
    },
    {
      "cell_type": "markdown",
      "metadata": {
        "id": "cYoJWRq6m8VS"
      },
      "source": [
        "Great! Now we have no missing data and are ready to start our analysis.<br>\n",
        "Let's check the size of our new dataset."
      ]
    },
    {
      "cell_type": "code",
      "metadata": {
        "colab": {
          "base_uri": "https://localhost:8080/"
        },
        "id": "TjMxN5V-mItS",
        "outputId": "6c71e3fc-876e-4e64-83ea-f56c28081bf4"
      },
      "source": [
        "#DATA SET SHAPE\n",
        "print('Number of rows: {}'.format(df_clean.shape[0]))\n",
        "print('Number of columns: {}'.format(df_clean.shape[1]))"
      ],
      "execution_count": 53,
      "outputs": [
        {
          "output_type": "stream",
          "text": [
            "Number of rows: 128\n",
            "Number of columns: 56\n"
          ],
          "name": "stdout"
        }
      ]
    },
    {
      "cell_type": "markdown",
      "metadata": {
        "id": "5fhltWqDmMfO"
      },
      "source": [
        "Now we got **128 rows** and the same **56 columns**.<br>\n",
        "Even though it means fewer data, it is better distributed and will work better for our analysis."
      ]
    },
    {
      "cell_type": "markdown",
      "metadata": {
        "id": "G6dnsNYm-41g"
      },
      "source": [
        "## Statistical Information on Violence in Rio de Janeiro\n",
        "\n",
        "Now that our data is ready to be used, we can check how violence has grown in Rio. \n",
        "<br>\n",
        "<br>\n",
        "Let's display the statistical summary (`.describe()`) once again:\n"
      ]
    },
    {
      "cell_type": "code",
      "metadata": {
        "colab": {
          "base_uri": "https://localhost:8080/",
          "height": 317
        },
        "id": "KJneI7npPCKb",
        "outputId": "9be55abe-1156-44e6-c6a2-2e37bc1f6163"
      },
      "source": [
        "# Checking the statistical summary\n",
        "df_clean.describe()"
      ],
      "execution_count": 67,
      "outputs": [
        {
          "output_type": "execute_result",
          "data": {
            "text/html": [
              "<div>\n",
              "<style scoped>\n",
              "    .dataframe tbody tr th:only-of-type {\n",
              "        vertical-align: middle;\n",
              "    }\n",
              "\n",
              "    .dataframe tbody tr th {\n",
              "        vertical-align: top;\n",
              "    }\n",
              "\n",
              "    .dataframe thead th {\n",
              "        text-align: right;\n",
              "    }\n",
              "</style>\n",
              "<table border=\"1\" class=\"dataframe\">\n",
              "  <thead>\n",
              "    <tr style=\"text-align: right;\">\n",
              "      <th></th>\n",
              "      <th>year</th>\n",
              "      <th>month</th>\n",
              "      <th>willful_homicide</th>\n",
              "      <th>bodily_injury_death</th>\n",
              "      <th>latrocinio</th>\n",
              "      <th>homicide_by_police_interv</th>\n",
              "      <th>attempt_of_homicide</th>\n",
              "      <th>willful_bodily_injury</th>\n",
              "      <th>rape</th>\n",
              "      <th>manslaughter</th>\n",
              "      <th>unintent_bodily_injury</th>\n",
              "      <th>shoplifting</th>\n",
              "      <th>residence_robbery</th>\n",
              "      <th>car_jacking</th>\n",
              "      <th>cargo_robbery</th>\n",
              "      <th>mugging</th>\n",
              "      <th>group_robbery</th>\n",
              "      <th>bank_robbery</th>\n",
              "      <th>atm_robbery</th>\n",
              "      <th>cellphone_robbery</th>\n",
              "      <th>bank_withdrawed_money_robbery</th>\n",
              "      <th>robbery_after_withdraw_money</th>\n",
              "      <th>bicycle_robbery</th>\n",
              "      <th>other_robbery</th>\n",
              "      <th>total_robberies</th>\n",
              "      <th>vehicle_theft</th>\n",
              "      <th>mugging_theft</th>\n",
              "      <th>group_thefting</th>\n",
              "      <th>cellphone_theft</th>\n",
              "      <th>bicycle_theft</th>\n",
              "      <th>other_theft</th>\n",
              "      <th>total_thefts</th>\n",
              "      <th>kidnapping</th>\n",
              "      <th>extortion</th>\n",
              "      <th>express_kidnapping</th>\n",
              "      <th>embezzlement</th>\n",
              "      <th>drug_seizure</th>\n",
              "      <th>drug_possession</th>\n",
              "      <th>drug_dealing</th>\n",
              "      <th>drug_seizure_without_owner</th>\n",
              "      <th>recovered_cars</th>\n",
              "      <th>arrest_in_the_act</th>\n",
              "      <th>saapia</th>\n",
              "      <th>fulfilled_prison</th>\n",
              "      <th>sswcr</th>\n",
              "      <th>threatening</th>\n",
              "      <th>missing_people</th>\n",
              "      <th>dead_body_found</th>\n",
              "      <th>bones_found</th>\n",
              "      <th>militar_cops_killed_serving</th>\n",
              "      <th>civil_cops_killed_serving</th>\n",
              "      <th>lethality_rate</th>\n",
              "      <th>rate_street_robbery</th>\n",
              "      <th>rate_vehicle_robbery</th>\n",
              "      <th>occurrence_records</th>\n",
              "      <th>phases</th>\n",
              "    </tr>\n",
              "  </thead>\n",
              "  <tbody>\n",
              "    <tr>\n",
              "      <th>count</th>\n",
              "      <td>128.000000</td>\n",
              "      <td>128.000000</td>\n",
              "      <td>128.000000</td>\n",
              "      <td>128.000000</td>\n",
              "      <td>128.000000</td>\n",
              "      <td>128.000000</td>\n",
              "      <td>128.000000</td>\n",
              "      <td>128.000000</td>\n",
              "      <td>128.000000</td>\n",
              "      <td>128.000000</td>\n",
              "      <td>128.000000</td>\n",
              "      <td>128.000000</td>\n",
              "      <td>128.000000</td>\n",
              "      <td>128.000000</td>\n",
              "      <td>128.000000</td>\n",
              "      <td>128.000000</td>\n",
              "      <td>128.000000</td>\n",
              "      <td>128.000000</td>\n",
              "      <td>128.000000</td>\n",
              "      <td>128.000000</td>\n",
              "      <td>128.000000</td>\n",
              "      <td>128.000000</td>\n",
              "      <td>128.000000</td>\n",
              "      <td>128.000000</td>\n",
              "      <td>128.000000</td>\n",
              "      <td>128.000000</td>\n",
              "      <td>128.000000</td>\n",
              "      <td>128.000000</td>\n",
              "      <td>128.000000</td>\n",
              "      <td>128.000000</td>\n",
              "      <td>128.000000</td>\n",
              "      <td>128.000000</td>\n",
              "      <td>128.000000</td>\n",
              "      <td>128.000000</td>\n",
              "      <td>128.000000</td>\n",
              "      <td>128.000000</td>\n",
              "      <td>128.000000</td>\n",
              "      <td>128.000000</td>\n",
              "      <td>128.000000</td>\n",
              "      <td>128.000000</td>\n",
              "      <td>128.000000</td>\n",
              "      <td>128.000000</td>\n",
              "      <td>128.000000</td>\n",
              "      <td>128.000000</td>\n",
              "      <td>128.000000</td>\n",
              "      <td>128.000000</td>\n",
              "      <td>128.000000</td>\n",
              "      <td>128.000000</td>\n",
              "      <td>128.000000</td>\n",
              "      <td>128.000000</td>\n",
              "      <td>128.000000</td>\n",
              "      <td>128.000000</td>\n",
              "      <td>128.000000</td>\n",
              "      <td>128.000000</td>\n",
              "      <td>128.000000</td>\n",
              "      <td>128.000000</td>\n",
              "    </tr>\n",
              "    <tr>\n",
              "      <th>mean</th>\n",
              "      <td>2013.843750</td>\n",
              "      <td>6.375000</td>\n",
              "      <td>397.359375</td>\n",
              "      <td>3.476562</td>\n",
              "      <td>14.093750</td>\n",
              "      <td>72.851562</td>\n",
              "      <td>444.593750</td>\n",
              "      <td>6439.437500</td>\n",
              "      <td>427.046875</td>\n",
              "      <td>179.031250</td>\n",
              "      <td>3281.742188</td>\n",
              "      <td>506.210938</td>\n",
              "      <td>111.179688</td>\n",
              "      <td>2763.945312</td>\n",
              "      <td>496.710938</td>\n",
              "      <td>6008.718750</td>\n",
              "      <td>824.460938</td>\n",
              "      <td>2.164062</td>\n",
              "      <td>3.523438</td>\n",
              "      <td>1090.843750</td>\n",
              "      <td>8.210938</td>\n",
              "      <td>120.132812</td>\n",
              "      <td>11.835938</td>\n",
              "      <td>1444.539062</td>\n",
              "      <td>13386.382812</td>\n",
              "      <td>1424.359375</td>\n",
              "      <td>2503.015625</td>\n",
              "      <td>807.390625</td>\n",
              "      <td>1551.632812</td>\n",
              "      <td>140.367188</td>\n",
              "      <td>7777.398438</td>\n",
              "      <td>14130.101562</td>\n",
              "      <td>0.570312</td>\n",
              "      <td>139.515625</td>\n",
              "      <td>9.375000</td>\n",
              "      <td>2677.421875</td>\n",
              "      <td>1713.070312</td>\n",
              "      <td>683.023438</td>\n",
              "      <td>875.210938</td>\n",
              "      <td>189.812500</td>\n",
              "      <td>2050.539062</td>\n",
              "      <td>2574.335938</td>\n",
              "      <td>646.476562</td>\n",
              "      <td>1372.031250</td>\n",
              "      <td>93.554688</td>\n",
              "      <td>6020.453125</td>\n",
              "      <td>462.664062</td>\n",
              "      <td>40.335938</td>\n",
              "      <td>2.968750</td>\n",
              "      <td>1.781250</td>\n",
              "      <td>0.289062</td>\n",
              "      <td>487.781250</td>\n",
              "      <td>7924.023438</td>\n",
              "      <td>2763.945312</td>\n",
              "      <td>62439.156250</td>\n",
              "      <td>2.984375</td>\n",
              "    </tr>\n",
              "    <tr>\n",
              "      <th>std</th>\n",
              "      <td>3.095431</td>\n",
              "      <td>3.439007</td>\n",
              "      <td>62.207265</td>\n",
              "      <td>2.147934</td>\n",
              "      <td>5.552098</td>\n",
              "      <td>38.978914</td>\n",
              "      <td>85.245587</td>\n",
              "      <td>1060.576078</td>\n",
              "      <td>59.991582</td>\n",
              "      <td>28.468227</td>\n",
              "      <td>708.252438</td>\n",
              "      <td>111.189535</td>\n",
              "      <td>19.026063</td>\n",
              "      <td>1049.249836</td>\n",
              "      <td>270.843946</td>\n",
              "      <td>1398.754198</td>\n",
              "      <td>370.075389</td>\n",
              "      <td>1.401784</td>\n",
              "      <td>2.478140</td>\n",
              "      <td>744.204458</td>\n",
              "      <td>3.899631</td>\n",
              "      <td>44.131937</td>\n",
              "      <td>5.747683</td>\n",
              "      <td>680.467856</td>\n",
              "      <td>4202.809486</td>\n",
              "      <td>141.883657</td>\n",
              "      <td>750.077298</td>\n",
              "      <td>127.004075</td>\n",
              "      <td>266.683624</td>\n",
              "      <td>60.611824</td>\n",
              "      <td>788.238356</td>\n",
              "      <td>1600.113996</td>\n",
              "      <td>0.953102</td>\n",
              "      <td>31.725939</td>\n",
              "      <td>4.702152</td>\n",
              "      <td>529.761997</td>\n",
              "      <td>475.945543</td>\n",
              "      <td>227.744485</td>\n",
              "      <td>251.718336</td>\n",
              "      <td>37.311574</td>\n",
              "      <td>647.734087</td>\n",
              "      <td>491.224363</td>\n",
              "      <td>225.404098</td>\n",
              "      <td>311.120706</td>\n",
              "      <td>67.166125</td>\n",
              "      <td>1097.739344</td>\n",
              "      <td>64.012582</td>\n",
              "      <td>10.824496</td>\n",
              "      <td>2.050302</td>\n",
              "      <td>1.562037</td>\n",
              "      <td>0.603824</td>\n",
              "      <td>82.892107</td>\n",
              "      <td>2380.782239</td>\n",
              "      <td>1049.249836</td>\n",
              "      <td>5813.445227</td>\n",
              "      <td>0.124507</td>\n",
              "    </tr>\n",
              "    <tr>\n",
              "      <th>min</th>\n",
              "      <td>2009.000000</td>\n",
              "      <td>1.000000</td>\n",
              "      <td>272.000000</td>\n",
              "      <td>0.000000</td>\n",
              "      <td>5.000000</td>\n",
              "      <td>15.000000</td>\n",
              "      <td>272.000000</td>\n",
              "      <td>2521.000000</td>\n",
              "      <td>230.000000</td>\n",
              "      <td>111.000000</td>\n",
              "      <td>848.000000</td>\n",
              "      <td>277.000000</td>\n",
              "      <td>49.000000</td>\n",
              "      <td>1413.000000</td>\n",
              "      <td>170.000000</td>\n",
              "      <td>2260.000000</td>\n",
              "      <td>345.000000</td>\n",
              "      <td>0.000000</td>\n",
              "      <td>0.000000</td>\n",
              "      <td>301.000000</td>\n",
              "      <td>1.000000</td>\n",
              "      <td>11.000000</td>\n",
              "      <td>0.000000</td>\n",
              "      <td>782.000000</td>\n",
              "      <td>7740.000000</td>\n",
              "      <td>1159.000000</td>\n",
              "      <td>663.000000</td>\n",
              "      <td>167.000000</td>\n",
              "      <td>527.000000</td>\n",
              "      <td>0.000000</td>\n",
              "      <td>3089.000000</td>\n",
              "      <td>5795.000000</td>\n",
              "      <td>0.000000</td>\n",
              "      <td>49.000000</td>\n",
              "      <td>1.000000</td>\n",
              "      <td>717.000000</td>\n",
              "      <td>827.000000</td>\n",
              "      <td>274.000000</td>\n",
              "      <td>358.000000</td>\n",
              "      <td>114.000000</td>\n",
              "      <td>1219.000000</td>\n",
              "      <td>1584.000000</td>\n",
              "      <td>265.000000</td>\n",
              "      <td>695.000000</td>\n",
              "      <td>21.000000</td>\n",
              "      <td>1409.000000</td>\n",
              "      <td>236.000000</td>\n",
              "      <td>16.000000</td>\n",
              "      <td>0.000000</td>\n",
              "      <td>0.000000</td>\n",
              "      <td>0.000000</td>\n",
              "      <td>334.000000</td>\n",
              "      <td>3298.000000</td>\n",
              "      <td>1413.000000</td>\n",
              "      <td>31231.000000</td>\n",
              "      <td>2.000000</td>\n",
              "    </tr>\n",
              "    <tr>\n",
              "      <th>25%</th>\n",
              "      <td>2011.000000</td>\n",
              "      <td>3.000000</td>\n",
              "      <td>346.000000</td>\n",
              "      <td>2.000000</td>\n",
              "      <td>10.000000</td>\n",
              "      <td>42.500000</td>\n",
              "      <td>375.750000</td>\n",
              "      <td>5655.000000</td>\n",
              "      <td>389.000000</td>\n",
              "      <td>156.000000</td>\n",
              "      <td>2721.750000</td>\n",
              "      <td>411.000000</td>\n",
              "      <td>97.750000</td>\n",
              "      <td>1818.500000</td>\n",
              "      <td>256.750000</td>\n",
              "      <td>4839.250000</td>\n",
              "      <td>556.750000</td>\n",
              "      <td>1.000000</td>\n",
              "      <td>2.000000</td>\n",
              "      <td>496.750000</td>\n",
              "      <td>5.000000</td>\n",
              "      <td>81.500000</td>\n",
              "      <td>13.000000</td>\n",
              "      <td>923.750000</td>\n",
              "      <td>9859.500000</td>\n",
              "      <td>1321.000000</td>\n",
              "      <td>2068.500000</td>\n",
              "      <td>736.500000</td>\n",
              "      <td>1367.500000</td>\n",
              "      <td>155.500000</td>\n",
              "      <td>7361.750000</td>\n",
              "      <td>13430.500000</td>\n",
              "      <td>0.000000</td>\n",
              "      <td>122.750000</td>\n",
              "      <td>6.000000</td>\n",
              "      <td>2312.750000</td>\n",
              "      <td>1291.000000</td>\n",
              "      <td>508.500000</td>\n",
              "      <td>644.750000</td>\n",
              "      <td>164.500000</td>\n",
              "      <td>1480.500000</td>\n",
              "      <td>2138.250000</td>\n",
              "      <td>469.250000</td>\n",
              "      <td>1156.750000</td>\n",
              "      <td>49.500000</td>\n",
              "      <td>5228.500000</td>\n",
              "      <td>418.500000</td>\n",
              "      <td>33.750000</td>\n",
              "      <td>1.000000</td>\n",
              "      <td>1.000000</td>\n",
              "      <td>0.000000</td>\n",
              "      <td>426.500000</td>\n",
              "      <td>6056.000000</td>\n",
              "      <td>1818.500000</td>\n",
              "      <td>57849.000000</td>\n",
              "      <td>3.000000</td>\n",
              "    </tr>\n",
              "    <tr>\n",
              "      <th>50%</th>\n",
              "      <td>2014.000000</td>\n",
              "      <td>6.000000</td>\n",
              "      <td>386.500000</td>\n",
              "      <td>3.000000</td>\n",
              "      <td>13.000000</td>\n",
              "      <td>64.000000</td>\n",
              "      <td>449.000000</td>\n",
              "      <td>6505.000000</td>\n",
              "      <td>427.000000</td>\n",
              "      <td>176.000000</td>\n",
              "      <td>3462.000000</td>\n",
              "      <td>500.000000</td>\n",
              "      <td>109.000000</td>\n",
              "      <td>2486.500000</td>\n",
              "      <td>431.000000</td>\n",
              "      <td>6049.500000</td>\n",
              "      <td>670.000000</td>\n",
              "      <td>2.000000</td>\n",
              "      <td>3.000000</td>\n",
              "      <td>733.000000</td>\n",
              "      <td>8.000000</td>\n",
              "      <td>124.500000</td>\n",
              "      <td>13.000000</td>\n",
              "      <td>1145.500000</td>\n",
              "      <td>12196.000000</td>\n",
              "      <td>1390.500000</td>\n",
              "      <td>2476.000000</td>\n",
              "      <td>833.500000</td>\n",
              "      <td>1534.000000</td>\n",
              "      <td>158.000000</td>\n",
              "      <td>7782.500000</td>\n",
              "      <td>14162.000000</td>\n",
              "      <td>0.000000</td>\n",
              "      <td>137.000000</td>\n",
              "      <td>8.000000</td>\n",
              "      <td>2795.500000</td>\n",
              "      <td>1825.500000</td>\n",
              "      <td>706.500000</td>\n",
              "      <td>961.000000</td>\n",
              "      <td>186.500000</td>\n",
              "      <td>1904.500000</td>\n",
              "      <td>2748.000000</td>\n",
              "      <td>595.000000</td>\n",
              "      <td>1374.500000</td>\n",
              "      <td>67.000000</td>\n",
              "      <td>6142.000000</td>\n",
              "      <td>461.000000</td>\n",
              "      <td>41.000000</td>\n",
              "      <td>3.000000</td>\n",
              "      <td>1.000000</td>\n",
              "      <td>0.000000</td>\n",
              "      <td>481.000000</td>\n",
              "      <td>7541.000000</td>\n",
              "      <td>2486.500000</td>\n",
              "      <td>63154.000000</td>\n",
              "      <td>3.000000</td>\n",
              "    </tr>\n",
              "    <tr>\n",
              "      <th>75%</th>\n",
              "      <td>2016.250000</td>\n",
              "      <td>9.000000</td>\n",
              "      <td>439.000000</td>\n",
              "      <td>5.000000</td>\n",
              "      <td>17.000000</td>\n",
              "      <td>97.000000</td>\n",
              "      <td>509.500000</td>\n",
              "      <td>7187.500000</td>\n",
              "      <td>472.250000</td>\n",
              "      <td>195.750000</td>\n",
              "      <td>3823.500000</td>\n",
              "      <td>599.500000</td>\n",
              "      <td>124.000000</td>\n",
              "      <td>3458.750000</td>\n",
              "      <td>698.500000</td>\n",
              "      <td>7031.500000</td>\n",
              "      <td>1156.500000</td>\n",
              "      <td>3.000000</td>\n",
              "      <td>5.000000</td>\n",
              "      <td>1823.750000</td>\n",
              "      <td>11.000000</td>\n",
              "      <td>155.250000</td>\n",
              "      <td>13.000000</td>\n",
              "      <td>1801.250000</td>\n",
              "      <td>17134.750000</td>\n",
              "      <td>1503.000000</td>\n",
              "      <td>2822.250000</td>\n",
              "      <td>896.250000</td>\n",
              "      <td>1757.250000</td>\n",
              "      <td>160.000000</td>\n",
              "      <td>8206.500000</td>\n",
              "      <td>14876.500000</td>\n",
              "      <td>1.000000</td>\n",
              "      <td>154.500000</td>\n",
              "      <td>12.000000</td>\n",
              "      <td>3049.250000</td>\n",
              "      <td>2064.250000</td>\n",
              "      <td>826.250000</td>\n",
              "      <td>1069.500000</td>\n",
              "      <td>211.250000</td>\n",
              "      <td>2432.000000</td>\n",
              "      <td>2946.500000</td>\n",
              "      <td>834.000000</td>\n",
              "      <td>1599.750000</td>\n",
              "      <td>109.000000</td>\n",
              "      <td>6843.500000</td>\n",
              "      <td>504.000000</td>\n",
              "      <td>46.250000</td>\n",
              "      <td>4.000000</td>\n",
              "      <td>3.000000</td>\n",
              "      <td>0.000000</td>\n",
              "      <td>544.750000</td>\n",
              "      <td>9974.250000</td>\n",
              "      <td>3458.750000</td>\n",
              "      <td>66774.250000</td>\n",
              "      <td>3.000000</td>\n",
              "    </tr>\n",
              "    <tr>\n",
              "      <th>max</th>\n",
              "      <td>2019.000000</td>\n",
              "      <td>12.000000</td>\n",
              "      <td>588.000000</td>\n",
              "      <td>10.000000</td>\n",
              "      <td>30.000000</td>\n",
              "      <td>194.000000</td>\n",
              "      <td>645.000000</td>\n",
              "      <td>9050.000000</td>\n",
              "      <td>561.000000</td>\n",
              "      <td>250.000000</td>\n",
              "      <td>4313.000000</td>\n",
              "      <td>774.000000</td>\n",
              "      <td>156.000000</td>\n",
              "      <td>5358.000000</td>\n",
              "      <td>1329.000000</td>\n",
              "      <td>9669.000000</td>\n",
              "      <td>1628.000000</td>\n",
              "      <td>6.000000</td>\n",
              "      <td>12.000000</td>\n",
              "      <td>2626.000000</td>\n",
              "      <td>19.000000</td>\n",
              "      <td>198.000000</td>\n",
              "      <td>26.000000</td>\n",
              "      <td>3661.000000</td>\n",
              "      <td>23203.000000</td>\n",
              "      <td>1830.000000</td>\n",
              "      <td>5368.000000</td>\n",
              "      <td>1036.000000</td>\n",
              "      <td>2215.000000</td>\n",
              "      <td>243.000000</td>\n",
              "      <td>9880.000000</td>\n",
              "      <td>18003.000000</td>\n",
              "      <td>5.000000</td>\n",
              "      <td>243.000000</td>\n",
              "      <td>31.000000</td>\n",
              "      <td>3627.000000</td>\n",
              "      <td>2543.000000</td>\n",
              "      <td>1160.000000</td>\n",
              "      <td>1282.000000</td>\n",
              "      <td>289.000000</td>\n",
              "      <td>3695.000000</td>\n",
              "      <td>3425.000000</td>\n",
              "      <td>1114.000000</td>\n",
              "      <td>2314.000000</td>\n",
              "      <td>350.000000</td>\n",
              "      <td>9034.000000</td>\n",
              "      <td>628.000000</td>\n",
              "      <td>69.000000</td>\n",
              "      <td>13.000000</td>\n",
              "      <td>7.000000</td>\n",
              "      <td>3.000000</td>\n",
              "      <td>726.000000</td>\n",
              "      <td>13833.000000</td>\n",
              "      <td>5358.000000</td>\n",
              "      <td>75403.000000</td>\n",
              "      <td>3.000000</td>\n",
              "    </tr>\n",
              "  </tbody>\n",
              "</table>\n",
              "</div>"
            ],
            "text/plain": [
              "              year       month  ...  occurrence_records      phases\n",
              "count   128.000000  128.000000  ...          128.000000  128.000000\n",
              "mean   2013.843750    6.375000  ...        62439.156250    2.984375\n",
              "std       3.095431    3.439007  ...         5813.445227    0.124507\n",
              "min    2009.000000    1.000000  ...        31231.000000    2.000000\n",
              "25%    2011.000000    3.000000  ...        57849.000000    3.000000\n",
              "50%    2014.000000    6.000000  ...        63154.000000    3.000000\n",
              "75%    2016.250000    9.000000  ...        66774.250000    3.000000\n",
              "max    2019.000000   12.000000  ...        75403.000000    3.000000\n",
              "\n",
              "[8 rows x 56 columns]"
            ]
          },
          "metadata": {
            "tags": []
          },
          "execution_count": 67
        }
      ]
    },
    {
      "cell_type": "markdown",
      "metadata": {
        "id": "9N652MnhWuyD"
      },
      "source": [
        "Have a look at our statistical summary, you will see how our values make much more sense, even though they are still scattered.<br>\n",
        "<br>\n",
        "Now let's display the `.mean()` value of the columns `car_jacking`, `car_theft` and `car_recovery`."
      ]
    },
    {
      "cell_type": "code",
      "metadata": {
        "colab": {
          "base_uri": "https://localhost:8080/"
        },
        "id": "FiDSkQQmPG8Y",
        "outputId": "1f0651d7-6056-45c2-f934-bc455d7e0e8f"
      },
      "source": [
        "# Finding the means\n",
        "print('Mean of car jacking: {}'.format(round(df_clean.car_jacking.mean())))\n",
        "print('Mean of car thefting: {}'.format(round(df_clean.vehicle_theft.mean())))\n",
        "print('Mean of cars recovered: {}'.format(round(df_clean.recovered_cars.mean())))"
      ],
      "execution_count": 69,
      "outputs": [
        {
          "output_type": "stream",
          "text": [
            "Mean of car jacking: 2764\n",
            "Mean of car thefting: 1424\n",
            "Mean of cars recovered: 2051\n"
          ],
          "name": "stdout"
        }
      ]
    },
    {
      "cell_type": "markdown",
      "metadata": {
        "id": "DRaKiLQTZId3"
      },
      "source": [
        "As you can tell, the average of **robbed cars in Rio is 2764** and the mean of **theft cars is 1424**\n",
        "Out of this, around **2051 are recovered**.<br>\n",
        "Therefore, we can affirm that most of the time car owners are present when their cars are stolen.\n",
        "<br> \n",
        "Let's check the percentage of recovered cars by doing:\n",
        "  * $\\frac{\\text{recovered_cars}}{\\text{car_jacking} + \\text{car_thef}}$"
      ]
    },
    {
      "cell_type": "code",
      "metadata": {
        "colab": {
          "base_uri": "https://localhost:8080/"
        },
        "id": "9JOyeL64PuE5",
        "outputId": "3b48f7aa-d371-4ef6-bd83-c44e71ef6595"
      },
      "source": [
        "# Average of recovered cars.\n",
        "print('{}%'.format(df_clean.recovered_cars.sum() / (df_clean.car_jacking.sum() + df_clean.vehicle_theft.sum()) * 100))"
      ],
      "execution_count": 70,
      "outputs": [
        {
          "output_type": "stream",
          "text": [
            "48.95868890866121%\n"
          ],
          "name": "stdout"
        }
      ]
    },
    {
      "cell_type": "markdown",
      "metadata": {
        "id": "hYc9UDzwaCwH"
      },
      "source": [
        "Around **49% of robbed cars (in general) are recovered in Rio de Janeiro**. <br>\n",
        "Unfortunately, that's a small number and it is really sad that a city like Rio has such a massive amount of robberies.<br>\n",
        "<br>\n",
        "How about we check the minimum and maximum amount of intentional homicides Rio had between 2009 and 2010?<br>\n",
        "Let's do this:"
      ]
    },
    {
      "cell_type": "code",
      "metadata": {
        "colab": {
          "base_uri": "https://localhost:8080/"
        },
        "id": "te1JdvLQQthM",
        "outputId": "6367fe37-3354-4125-ee7c-a3ac849a5042"
      },
      "source": [
        "# Checking minimum and maximum values for intentional homicides\n",
        "print('Maximum value of intentional homicide: {}'.format(max(df_clean.willful_homicide)))\n",
        "print('Minimum value of intentional homicide: {}'.format(min(df_clean.willful_homicide)))"
      ],
      "execution_count": 71,
      "outputs": [
        {
          "output_type": "stream",
          "text": [
            "Maximum value of intentional homicide: 588\n",
            "Minimum value of intentional homicide: 272\n"
          ],
          "name": "stdout"
        }
      ]
    },
    {
      "cell_type": "markdown",
      "metadata": {
        "id": "_cBU_t60cD_S"
      },
      "source": [
        "Now we know that the highest amount of intentional homicides Rio had since 2009 was **588**, and the smallest was **272**.<br>\n",
        "<br>\n",
        "When did either of them happen?"
      ]
    },
    {
      "cell_type": "code",
      "metadata": {
        "colab": {
          "base_uri": "https://localhost:8080/",
          "height": 100
        },
        "id": "CM5fuiAAce_r",
        "outputId": "04e4d1ca-a5e8-41e4-c1ff-7705ab7b4455"
      },
      "source": [
        "# Month with highest amount of intentional homicides\n",
        "df_clean[df_clean.willful_homicide == 588]"
      ],
      "execution_count": 74,
      "outputs": [
        {
          "output_type": "execute_result",
          "data": {
            "text/html": [
              "<div>\n",
              "<style scoped>\n",
              "    .dataframe tbody tr th:only-of-type {\n",
              "        vertical-align: middle;\n",
              "    }\n",
              "\n",
              "    .dataframe tbody tr th {\n",
              "        vertical-align: top;\n",
              "    }\n",
              "\n",
              "    .dataframe thead th {\n",
              "        text-align: right;\n",
              "    }\n",
              "</style>\n",
              "<table border=\"1\" class=\"dataframe\">\n",
              "  <thead>\n",
              "    <tr style=\"text-align: right;\">\n",
              "      <th></th>\n",
              "      <th>year</th>\n",
              "      <th>month</th>\n",
              "      <th>willful_homicide</th>\n",
              "      <th>bodily_injury_death</th>\n",
              "      <th>latrocinio</th>\n",
              "      <th>homicide_by_police_interv</th>\n",
              "      <th>attempt_of_homicide</th>\n",
              "      <th>willful_bodily_injury</th>\n",
              "      <th>rape</th>\n",
              "      <th>manslaughter</th>\n",
              "      <th>unintent_bodily_injury</th>\n",
              "      <th>shoplifting</th>\n",
              "      <th>residence_robbery</th>\n",
              "      <th>car_jacking</th>\n",
              "      <th>cargo_robbery</th>\n",
              "      <th>mugging</th>\n",
              "      <th>group_robbery</th>\n",
              "      <th>bank_robbery</th>\n",
              "      <th>atm_robbery</th>\n",
              "      <th>cellphone_robbery</th>\n",
              "      <th>bank_withdrawed_money_robbery</th>\n",
              "      <th>robbery_after_withdraw_money</th>\n",
              "      <th>bicycle_robbery</th>\n",
              "      <th>other_robbery</th>\n",
              "      <th>total_robberies</th>\n",
              "      <th>vehicle_theft</th>\n",
              "      <th>mugging_theft</th>\n",
              "      <th>group_thefting</th>\n",
              "      <th>cellphone_theft</th>\n",
              "      <th>bicycle_theft</th>\n",
              "      <th>other_theft</th>\n",
              "      <th>total_thefts</th>\n",
              "      <th>kidnapping</th>\n",
              "      <th>extortion</th>\n",
              "      <th>express_kidnapping</th>\n",
              "      <th>embezzlement</th>\n",
              "      <th>drug_seizure</th>\n",
              "      <th>drug_possession</th>\n",
              "      <th>drug_dealing</th>\n",
              "      <th>drug_seizure_without_owner</th>\n",
              "      <th>recovered_cars</th>\n",
              "      <th>arrest_in_the_act</th>\n",
              "      <th>saapia</th>\n",
              "      <th>fulfilled_prison</th>\n",
              "      <th>sswcr</th>\n",
              "      <th>threatening</th>\n",
              "      <th>missing_people</th>\n",
              "      <th>dead_body_found</th>\n",
              "      <th>bones_found</th>\n",
              "      <th>militar_cops_killed_serving</th>\n",
              "      <th>civil_cops_killed_serving</th>\n",
              "      <th>lethality_rate</th>\n",
              "      <th>rate_street_robbery</th>\n",
              "      <th>rate_vehicle_robbery</th>\n",
              "      <th>occurrence_records</th>\n",
              "      <th>phases</th>\n",
              "    </tr>\n",
              "  </thead>\n",
              "  <tbody>\n",
              "    <tr>\n",
              "      <th>218</th>\n",
              "      <td>2009</td>\n",
              "      <td>3</td>\n",
              "      <td>588</td>\n",
              "      <td>5.0</td>\n",
              "      <td>30</td>\n",
              "      <td>103.0</td>\n",
              "      <td>444</td>\n",
              "      <td>7183</td>\n",
              "      <td>441.0</td>\n",
              "      <td>239.0</td>\n",
              "      <td>3493.0</td>\n",
              "      <td>465</td>\n",
              "      <td>156</td>\n",
              "      <td>2564</td>\n",
              "      <td>236</td>\n",
              "      <td>6686</td>\n",
              "      <td>926</td>\n",
              "      <td>3</td>\n",
              "      <td>3.0</td>\n",
              "      <td>782.0</td>\n",
              "      <td>18.0</td>\n",
              "      <td>182.0</td>\n",
              "      <td>13.0</td>\n",
              "      <td>1442</td>\n",
              "      <td>13463</td>\n",
              "      <td>1830</td>\n",
              "      <td>2478</td>\n",
              "      <td>762.0</td>\n",
              "      <td>1892.0</td>\n",
              "      <td>158.0</td>\n",
              "      <td>7967</td>\n",
              "      <td>14929</td>\n",
              "      <td>1.0</td>\n",
              "      <td>128.0</td>\n",
              "      <td>2.0</td>\n",
              "      <td>1975.0</td>\n",
              "      <td>980</td>\n",
              "      <td>352.0</td>\n",
              "      <td>476.0</td>\n",
              "      <td>187.0</td>\n",
              "      <td>1880</td>\n",
              "      <td>1923.0</td>\n",
              "      <td>323.0</td>\n",
              "      <td>1108.0</td>\n",
              "      <td>59.0</td>\n",
              "      <td>6719.0</td>\n",
              "      <td>553.0</td>\n",
              "      <td>50</td>\n",
              "      <td>0.0</td>\n",
              "      <td>2.0</td>\n",
              "      <td>1.0</td>\n",
              "      <td>726</td>\n",
              "      <td>8394</td>\n",
              "      <td>2564</td>\n",
              "      <td>61430.0</td>\n",
              "      <td>3</td>\n",
              "    </tr>\n",
              "  </tbody>\n",
              "</table>\n",
              "</div>"
            ],
            "text/plain": [
              "     year  month  ...  occurrence_records  phases\n",
              "218  2009      3  ...             61430.0       3\n",
              "\n",
              "[1 rows x 56 columns]"
            ]
          },
          "metadata": {
            "tags": []
          },
          "execution_count": 74
        }
      ]
    },
    {
      "cell_type": "code",
      "metadata": {
        "colab": {
          "base_uri": "https://localhost:8080/",
          "height": 100
        },
        "id": "-YXTC6H2ckSc",
        "outputId": "fe6f306a-886d-4b61-9b76-02c2ac3fa07b"
      },
      "source": [
        "# Month with the least amount of intentional homicides\n",
        "df[df_clean.willful_homicide ==272]"
      ],
      "execution_count": null,
      "outputs": [
        {
          "output_type": "execute_result",
          "data": {
            "text/html": [
              "<div>\n",
              "<style scoped>\n",
              "    .dataframe tbody tr th:only-of-type {\n",
              "        vertical-align: middle;\n",
              "    }\n",
              "\n",
              "    .dataframe tbody tr th {\n",
              "        vertical-align: top;\n",
              "    }\n",
              "\n",
              "    .dataframe thead th {\n",
              "        text-align: right;\n",
              "    }\n",
              "</style>\n",
              "<table border=\"1\" class=\"dataframe\">\n",
              "  <thead>\n",
              "    <tr style=\"text-align: right;\">\n",
              "      <th></th>\n",
              "      <th>year</th>\n",
              "      <th>month</th>\n",
              "      <th>willful_homicide</th>\n",
              "      <th>bodily_injury_death</th>\n",
              "      <th>latrocinio</th>\n",
              "      <th>homicide_by_police_interv</th>\n",
              "      <th>attempt_of_homicide</th>\n",
              "      <th>willful_bodily_injury</th>\n",
              "      <th>rape</th>\n",
              "      <th>manslaughter</th>\n",
              "      <th>unintent_bodily_injury</th>\n",
              "      <th>shoplifting</th>\n",
              "      <th>residence_robbery</th>\n",
              "      <th>car_jacking</th>\n",
              "      <th>cargo_robbery</th>\n",
              "      <th>mugging</th>\n",
              "      <th>group_robbery</th>\n",
              "      <th>bank_robbery</th>\n",
              "      <th>atm_robbery</th>\n",
              "      <th>cellphone_robbery</th>\n",
              "      <th>bank_withdrawed_money_robbery</th>\n",
              "      <th>robbery_after_withdraw_money</th>\n",
              "      <th>bicycle_robbery</th>\n",
              "      <th>other_robbery</th>\n",
              "      <th>total_robberies</th>\n",
              "      <th>vehicle_theft</th>\n",
              "      <th>mugging_theft</th>\n",
              "      <th>group_thefting</th>\n",
              "      <th>cellphone_theft</th>\n",
              "      <th>bicycle_theft</th>\n",
              "      <th>other_theft</th>\n",
              "      <th>total_thefts</th>\n",
              "      <th>kidnapping</th>\n",
              "      <th>extortion</th>\n",
              "      <th>express_kidnapping</th>\n",
              "      <th>embezzlement</th>\n",
              "      <th>drug_seizure</th>\n",
              "      <th>drug_possession</th>\n",
              "      <th>drug_dealing</th>\n",
              "      <th>drug_seizure_without_owner</th>\n",
              "      <th>recovered_cars</th>\n",
              "      <th>arrest_in_the_act</th>\n",
              "      <th>saapia</th>\n",
              "      <th>fulfilled_prison</th>\n",
              "      <th>sswcr</th>\n",
              "      <th>threatening</th>\n",
              "      <th>missing_people</th>\n",
              "      <th>dead_body_found</th>\n",
              "      <th>bones_found</th>\n",
              "      <th>militar_cops_killed_serving</th>\n",
              "      <th>civil_cops_killed_serving</th>\n",
              "      <th>lethality_rate</th>\n",
              "      <th>rate_street_robbery</th>\n",
              "      <th>rate_vehicle_robbery</th>\n",
              "      <th>occurrence_records</th>\n",
              "      <th>phases</th>\n",
              "    </tr>\n",
              "  </thead>\n",
              "  <tbody>\n",
              "    <tr>\n",
              "      <th>293</th>\n",
              "      <td>2015</td>\n",
              "      <td>6</td>\n",
              "      <td>272</td>\n",
              "      <td>2.0</td>\n",
              "      <td>16</td>\n",
              "      <td>44.0</td>\n",
              "      <td>477</td>\n",
              "      <td>5535</td>\n",
              "      <td>389.0</td>\n",
              "      <td>140.0</td>\n",
              "      <td>3369.0</td>\n",
              "      <td>465</td>\n",
              "      <td>96</td>\n",
              "      <td>2254</td>\n",
              "      <td>566</td>\n",
              "      <td>4421</td>\n",
              "      <td>619</td>\n",
              "      <td>3</td>\n",
              "      <td>1.0</td>\n",
              "      <td>896.0</td>\n",
              "      <td>5.0</td>\n",
              "      <td>106.0</td>\n",
              "      <td>3.0</td>\n",
              "      <td>1243</td>\n",
              "      <td>10678</td>\n",
              "      <td>1333</td>\n",
              "      <td>2974</td>\n",
              "      <td>968.0</td>\n",
              "      <td>1514.0</td>\n",
              "      <td>5.0</td>\n",
              "      <td>7475</td>\n",
              "      <td>14269</td>\n",
              "      <td>0.0</td>\n",
              "      <td>192.0</td>\n",
              "      <td>10.0</td>\n",
              "      <td>2940.0</td>\n",
              "      <td>2134</td>\n",
              "      <td>845.0</td>\n",
              "      <td>1134.0</td>\n",
              "      <td>204.0</td>\n",
              "      <td>1768</td>\n",
              "      <td>3128.0</td>\n",
              "      <td>798.0</td>\n",
              "      <td>1676.0</td>\n",
              "      <td>57.0</td>\n",
              "      <td>5678.0</td>\n",
              "      <td>493.0</td>\n",
              "      <td>52</td>\n",
              "      <td>4.0</td>\n",
              "      <td>1.0</td>\n",
              "      <td>1.0</td>\n",
              "      <td>334</td>\n",
              "      <td>5936</td>\n",
              "      <td>2254</td>\n",
              "      <td>60357.0</td>\n",
              "      <td>3</td>\n",
              "    </tr>\n",
              "  </tbody>\n",
              "</table>\n",
              "</div>"
            ],
            "text/plain": [
              "     year  month  ...  occurrence_records  phases\n",
              "293  2015      6  ...             60357.0       3\n",
              "\n",
              "[1 rows x 56 columns]"
            ]
          },
          "metadata": {
            "tags": []
          },
          "execution_count": 296
        }
      ]
    },
    {
      "cell_type": "markdown",
      "metadata": {
        "id": "eCRzz46Pcs4W"
      },
      "source": [
        "**June 2015** had the **lowest** intentional homicide rate, while **March 2009** had the **highest**..<br>\n",
        "<br>"
      ]
    },
    {
      "cell_type": "markdown",
      "metadata": {
        "id": "7WK0NBQZASKC"
      },
      "source": [
        "# Data Visualization\n",
        "\n",
        "Visualization is a great way to understand your data, our brain works better when it can see the concepts we are talking about.<br>\n",
        "Now, let's actually have a look at how violence has grown (or not) in Rio.\n",
        "\n",
        "* Let's plot a histogram for `willful_homicide`:\n"
      ]
    },
    {
      "cell_type": "code",
      "metadata": {
        "colab": {
          "base_uri": "https://localhost:8080/",
          "height": 350
        },
        "id": "NaUA1gqrRDHW",
        "outputId": "5f7a8eef-d2c7-48d6-88db-89031abc62f1"
      },
      "source": [
        "# Plotting Histogram for intentional homicides\n",
        "df_clean.willful_homicide.hist(bins=8, color='red', figsize=(10,5))\n",
        "plt.title('Intentional Homicide in Rio')\n",
        "plt.xlabel('Amount of homicides')\n",
        "plt.ylabel('Frequency')\n",
        "plt.box(on=None)\n",
        "plt.show()"
      ],
      "execution_count": 75,
      "outputs": [
        {
          "output_type": "display_data",
          "data": {
            "image/png": "[encoded data removed]",
            "text/plain": [
              "<Figure size 720x360 with 1 Axes>"
            ]
          },
          "metadata": {
            "tags": [],
            "needs_background": "light"
          }
        }
      ]
    },
    {
      "cell_type": "code",
      "metadata": {
        "colab": {
          "base_uri": "https://localhost:8080/"
        },
        "id": "nlnRcFj0h2Zx",
        "outputId": "1c15c61f-59c4-43a4-9a4a-dfe1cc248d6b"
      },
      "source": [
        "# Printing the mean of intentional homicides\n",
        "print('Mean of intentional homicides: {}'.format(df_clean.willful_homicide.mean()))"
      ],
      "execution_count": 76,
      "outputs": [
        {
          "output_type": "stream",
          "text": [
            "Mean of intentional homicides: 397.359375\n"
          ],
          "name": "stdout"
        }
      ]
    },
    {
      "cell_type": "markdown",
      "metadata": {
        "id": "ArLA1eJpiFeZ"
      },
      "source": [
        "If you pay attention to the histogram, you will realize that 504 (the mean) is among the top values. Which runs between around 480 to 550, which means it is among the most frequent amounts of monthly intentional homicides in Rio."
      ]
    },
    {
      "cell_type": "markdown",
      "metadata": {
        "id": "1VekJWlThf-0"
      },
      "source": [
        "## Gangs\n",
        "In the graph below, you can see how the **number of group thefts has grown**. It means more gangs and criminal groups are rising."
      ]
    },
    {
      "cell_type": "code",
      "metadata": {
        "colab": {
          "base_uri": "https://localhost:8080/",
          "height": 350
        },
        "id": "PW48AZrbSXO_",
        "outputId": "28cc5553-8768-4730-bd54-0fd1c0e24064"
      },
      "source": [
        "# Amount of gangs in Rio\n",
        "df_clean.group_robbery.plot(figsize=(10,5), grid=True)\n",
        "plt.xlabel('Year')\n",
        "plt.ylabel('Colective robbery per month')\n",
        "plt.title('Rise of Group Thefts')\n",
        "plt.box(on=None)\n",
        "plt.show()"
      ],
      "execution_count": 77,
      "outputs": [
        {
          "output_type": "display_data",
          "data": {
            "image/png": "[encoded data removed]",
            "text/plain": [
              "<Figure size 720x360 with 1 Axes>"
            ]
          },
          "metadata": {
            "tags": [],
            "needs_background": "light"
          }
        }
      ]
    },
    {
      "cell_type": "markdown",
      "metadata": {
        "id": "PGDBARn65qec"
      },
      "source": [
        "The weird part about it is that even with violence rates going down, gangs have been rising."
      ]
    },
    {
      "cell_type": "markdown",
      "metadata": {
        "id": "MaojtQwim8L_"
      },
      "source": [
        "## Rapes\n",
        "It is also clear that the number of rapes has grown in Rio."
      ]
    },
    {
      "cell_type": "code",
      "metadata": {
        "colab": {
          "base_uri": "https://localhost:8080/",
          "height": 336
        },
        "id": "tgEz-uEslAUr",
        "outputId": "a1aa9206-d5d1-4e59-ea12-5c525407f3c5"
      },
      "source": [
        "# Plotting the average of rapes per month in RIo\n",
        "df_clean.rape.plot(figsize=(10,5),grid=True);\n",
        "plt.title('Rapes in Rio de Janeiro')\n",
        "plt.ylabel('Rapes per Month')\n",
        "plt.box(on=None)\n",
        "plt.show()"
      ],
      "execution_count": 118,
      "outputs": [
        {
          "output_type": "display_data",
          "data": {
            "image/png": "[encoded data removed]",
            "text/plain": [
              "<Figure size 720x360 with 1 Axes>"
            ]
          },
          "metadata": {
            "tags": [],
            "needs_background": "light"
          }
        }
      ]
    },
    {
      "cell_type": "markdown",
      "metadata": {
        "id": "APod6X_k5Knd"
      },
      "source": [
        "Sadly, the monthly number of rapes in Rio has only been increasing."
      ]
    },
    {
      "cell_type": "markdown",
      "metadata": {
        "id": "Opy0yfGJv8DT"
      },
      "source": [
        "## Amount of Cellphones Stolen\n",
        "\n",
        "As someone who lived in Rio, I can say that cellphones are for sure the most stolen objects in the city.<br>\n",
        "As you can see below, the number of robberies tends to grow. It could also be because cellphones are just getting more and more popular."
      ]
    },
    {
      "cell_type": "code",
      "metadata": {
        "colab": {
          "base_uri": "https://localhost:8080/",
          "height": 336
        },
        "id": "wMNl2FrPvA24",
        "outputId": "503bf112-655b-43dc-e657-e849b333f77a"
      },
      "source": [
        "# Plotting average of cellphones stolen\n",
        "df_clean.cellphone_robbery.plot(figsize=(10,5), grid=True)\n",
        "df_clean.cellphone_theft.plot()\n",
        "plt.title('Amount of Cellphones Stolen in Rio')\n",
        "plt.ylabel('Cellphones per month')\n",
        "plt.legend()\n",
        "plt.box(on=None)\n",
        "plt.show()"
      ],
      "execution_count": 79,
      "outputs": [
        {
          "output_type": "display_data",
          "data": {
            "image/png": "[encoded data removed]",
            "text/plain": [
              "<Figure size 720x360 with 1 Axes>"
            ]
          },
          "metadata": {
            "tags": [],
            "needs_background": "light"
          }
        }
      ]
    },
    {
      "cell_type": "markdown",
      "metadata": {
        "id": "_jhsJ8nPtJOj"
      },
      "source": [
        "## Intentional Homicides\n",
        "\n",
        "Unlikely rapes and gangs, the number of intentional homicides has decreased, which is great, but still not perfect."
      ]
    },
    {
      "cell_type": "code",
      "metadata": {
        "colab": {
          "base_uri": "https://localhost:8080/",
          "height": 336
        },
        "id": "zm0_7N09nrrO",
        "outputId": "5c5ff3c1-b85a-42dc-945c-e01734894641"
      },
      "source": [
        "# Plotting the amount intentional homicides in a month\n",
        "df_clean.willful_homicide.plot(figsize=(10,5), grid=True)\n",
        "plt.title('Amount of Intentional Homicides in a Month')\n",
        "plt.ylabel('Amount of rape in the month')\n",
        "plt.box(on=None)\n",
        "plt.show()"
      ],
      "execution_count": 117,
      "outputs": [
        {
          "output_type": "display_data",
          "data": {
            "image/png": "[encoded data removed]",
            "text/plain": [
              "<Figure size 720x360 with 1 Axes>"
            ]
          },
          "metadata": {
            "tags": [],
            "needs_background": "light"
          }
        }
      ]
    },
    {
      "cell_type": "code",
      "metadata": {
        "colab": {
          "base_uri": "https://localhost:8080/"
        },
        "id": "KL7OY4HW1F68",
        "outputId": "9c857b8c-5b18-40f7-d008-9425c4a207fa"
      },
      "source": [
        "# Average of intentional homicides per month in 2009\n",
        "df_clean[df_clean.year == 2009].willful_homicide.mean()"
      ],
      "execution_count": 88,
      "outputs": [
        {
          "output_type": "execute_result",
          "data": {
            "text/plain": [
              "482.75"
            ]
          },
          "metadata": {
            "tags": []
          },
          "execution_count": 88
        }
      ]
    },
    {
      "cell_type": "code",
      "metadata": {
        "colab": {
          "base_uri": "https://localhost:8080/"
        },
        "id": "4D9Itl8N1yFN",
        "outputId": "20bcf5f3-fb98-48ca-b840-13c04e671480"
      },
      "source": [
        "# Average of intentional homicides per month in 2012\n",
        "df_clean[df_clean.year == 2012].willful_homicide.mean()"
      ],
      "execution_count": 115,
      "outputs": [
        {
          "output_type": "execute_result",
          "data": {
            "text/plain": [
              "340.0833333333333"
            ]
          },
          "metadata": {
            "tags": []
          },
          "execution_count": 115
        }
      ]
    },
    {
      "cell_type": "code",
      "metadata": {
        "colab": {
          "base_uri": "https://localhost:8080/"
        },
        "id": "9X2jjMnM3f5o",
        "outputId": "3e70ddb1-5d94-4ef9-8486-1527da8c4b9e"
      },
      "source": [
        "# Average of intentional homicides per month in 2018\n",
        "df_clean[df_clean.year == 2018].willful_homicide.mean()"
      ],
      "execution_count": 113,
      "outputs": [
        {
          "output_type": "execute_result",
          "data": {
            "text/plain": [
              "412.5"
            ]
          },
          "metadata": {
            "tags": []
          },
          "execution_count": 113
        }
      ]
    },
    {
      "cell_type": "markdown",
      "metadata": {
        "id": "5IQl3puv3HQP"
      },
      "source": [
        "Even though the graph makes it seem like it is getting better, when you look at the mean of intentional homicides per month in Rio, 2009 had around **483** per month and 2018 had about **413** per month.<br>\n",
        "The year with the **lowest mean was 2012**, with around **340 intentional homicides per month**."
      ]
    },
    {
      "cell_type": "markdown",
      "metadata": {
        "id": "yEDHYY_KtNw6"
      },
      "source": [
        "## Homicides by Police Intervention\n",
        "\n",
        "You can also see how much more people the police have killed in Rio.\n",
        "What intrigues me is how both `homicides_by_police_interv` and `willful_homicide` are contrary, when one is high the other is low and vice-versa."
      ]
    },
    {
      "cell_type": "code",
      "metadata": {
        "colab": {
          "base_uri": "https://localhost:8080/",
          "height": 336
        },
        "id": "i7zwRV_ZpNED",
        "outputId": "cb22a06f-e4a8-4682-cf4f-726275e304ec"
      },
      "source": [
        "# Plotting graph of homicides by police intervention per month\n",
        "df_clean.homicide_by_police_interv.plot(figsize=(10,5), grid=True)\n",
        "plt.title(\"Homicides by Police Intervention in Rio\")\n",
        "plt.ylabel('Deaths by the police')\n",
        "plt.box(on=None)\n",
        "plt.show()"
      ],
      "execution_count": 116,
      "outputs": [
        {
          "output_type": "display_data",
          "data": {
            "image/png": "[encoded data removed]",
            "text/plain": [
              "<Figure size 720x360 with 1 Axes>"
            ]
          },
          "metadata": {
            "tags": [],
            "needs_background": "light"
          }
        }
      ]
    },
    {
      "cell_type": "markdown",
      "metadata": {
        "id": "LCsiXvM3BcsO"
      },
      "source": [
        "## Conclusion\n",
        "\n",
        "In our analysis we learned that data isn't always perfect, we needed to erase values before 2009 because they could be misleading or even outliers.<br>\n",
        "We also learned that at the same time  Rio has been having fewer intentional deaths, the number of rapes and robberies tends to grow. Even though it may seem like Rio is a dangerous place, as someone who lived there I can say that it is a great city. Everything relies on where you are and at what time. I highly encourage you to visit, there is a reason why Rio is so famous across the globe. \n",
        "\n",
        "#Did you like this notebook?\n",
        "If you did like this notebook, please follow me on [LinkedIn](https://www.linkedin.com/in/vin%C3%ADcius-porfirio-purgato-7891401b3/), [Medium](https://vinny-purgato.medium.com/) and [GitHub](https://github.com/vinny380), and if you got any questions don't hesitate to reach out."
      ]
    }
  ]
}